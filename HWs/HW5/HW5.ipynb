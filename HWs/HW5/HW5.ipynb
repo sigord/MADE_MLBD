{
 "cells": [
  {
   "cell_type": "markdown",
   "metadata": {},
   "source": [
    "# HW5"
   ]
  },
  {
   "cell_type": "code",
   "execution_count": 1,
   "metadata": {},
   "outputs": [
    {
     "name": "stdout",
     "output_type": "stream",
     "text": [
      "22/12/23 01:30:47 WARN Utils: Your hostname, Sudins-MacBook-Pro.local resolves to a loopback address: 127.0.0.1; using 192.168.1.212 instead (on interface en0)\n",
      "22/12/23 01:30:47 WARN Utils: Set SPARK_LOCAL_IP if you need to bind to another address\n"
     ]
    },
    {
     "name": "stderr",
     "output_type": "stream",
     "text": [
      "Setting default log level to \"WARN\".\n",
      "To adjust logging level use sc.setLogLevel(newLevel). For SparkR, use setLogLevel(newLevel).\n"
     ]
    },
    {
     "name": "stdout",
     "output_type": "stream",
     "text": [
      "22/12/23 01:30:47 WARN NativeCodeLoader: Unable to load native-hadoop library for your platform... using builtin-java classes where applicable\n"
     ]
    }
   ],
   "source": [
    "import pyspark\n",
    "import re\n",
    "import matplotlib.pyplot as plt\n",
    "from pyspark.sql import *\n",
    "from pyspark.sql.functions import *\n",
    "from pyspark.sql.types import *\n",
    "from pyspark.ml import Pipeline\n",
    "from pyspark.ml.classification import LogisticRegression\n",
    "from pyspark.ml.evaluation import BinaryClassificationEvaluator\n",
    "from pyspark.ml.feature import HashingTF, IDF, Tokenizer, StopWordsRemover, Word2Vec\n",
    "from pyspark.ml.tuning import CrossValidator, ParamGridBuilder\n",
    "from tqdm import tqdm\n",
    "from typing import Tuple\n",
    "\n",
    "PATH_TRAIN = \"data/train.csv\"\n",
    "TF_NUM_START = 4\n",
    "W2V_NUM_START = 10\n",
    "\n",
    "spark = SparkSession.builder \\\n",
    "    .master(\"local[4]\") \\\n",
    "    .appName(\"HW5\") \\\n",
    "    .getOrCreate()\n",
    "sc = spark.sparkContext"
   ]
  },
  {
   "cell_type": "code",
   "execution_count": 7,
   "metadata": {},
   "outputs": [],
   "source": [
    "def TF_num_features():\n",
    "    start = TF_NUM_START\n",
    "    while start <= 262144:\n",
    "        yield start\n",
    "        start *= 16\n",
    "\n",
    "def W2V_num_features():\n",
    "    start = W2V_NUM_START\n",
    "    while start <= 50:\n",
    "        yield start\n",
    "        start += 10\n",
    "\n",
    "def read_csv(path_to_file: str) -> DataFrame:\n",
    "    df_spark = spark.read \\\n",
    "        .options(header=True, inferSchema=True, delimeter=\",\", multiLine=True, escape=\"\\\"\") \\\n",
    "        .csv(PATH_TRAIN)\n",
    "    return df_spark\n",
    "\n",
    "def clean_message(mess):\n",
    "    mess = mess.lower()\n",
    "    mess = re.sub(r\"[^a-z\\']\", \" \", mess)\n",
    "    mess = re.sub(r\"\\s+\", \" \", mess)\n",
    "    mess = mess.strip(' ')\n",
    "    return mess\n",
    "\n",
    "clean_message_udf = udf(lambda s: clean_message(s),StringType())\n",
    "\n",
    "def prepare_dataset(df: DataFrame) -> DataFrame:\n",
    "    tockenizer = Tokenizer(inputCol=\"clean_text\", outputCol=\"words\")\n",
    "    stop_words_remover = StopWordsRemover(inputCol=\"words\", outputCol=\"clean_words\")\n",
    "    \n",
    "    df = df.withColumn('clean_text', clean_message_udf(col(\"comment_text\")))\n",
    "    pipe = Pipeline(stages=[tockenizer, stop_words_remover])\n",
    "    model = pipe.fit(df)\n",
    "    result = model.transform(df)\n",
    "    return result\n",
    "\n",
    "def tfidf(num_features: int, df_train: DataFrame, df_eval:DataFrame) -> Tuple[DataFrame, DataFrame]:\n",
    "    hashingTF = HashingTF(inputCol=\"clean_words\", outputCol=\"tf_features\", numFeatures=num_features)\n",
    "    idf = IDF(inputCol=\"tf_features\", outputCol=\"features\")\n",
    "    tfidf_pipe = Pipeline(stages=[hashingTF, idf])\n",
    "    model = tfidf_pipe.fit(df_train)\n",
    "    result_df_train = model.transform(df_train)\n",
    "    result_df_eval = model.transform(df_eval)\n",
    "    return result_df_train, result_df_eval\n",
    "\n",
    "def w2v(vector_size, df_train: DataFrame, df_eval: DataFrame):\n",
    "    word2vec = Word2Vec(vectorSize=vector_size, inputCol=\"clean_words\", outputCol=\"features\")\n",
    "    model = word2vec.fit(df_train)\n",
    "    result_df_train = model.transform(df_train)\n",
    "    result_df_eval = model.transform(df_eval)\n",
    "    return result_df_train, result_df_eval\n",
    "\n",
    "def get_metrics(labels: list, df_train: DataFrame, df_eval: DataFrame, \n",
    "                size_generator=TF_num_features, feature_extractor=tfidf):\n",
    "    result = {label: [] for label in labels}\n",
    "    for num_features in size_generator():\n",
    "        df_train_featured, df_eval_featured = feature_extractor(num_features, df_train, df_eval)\n",
    "        for label in labels:\n",
    "            lr = LogisticRegression(featuresCol=\"features\", labelCol=label)\n",
    "            lr_model = lr.fit(df_train_featured)\n",
    "            pred = lr_model.transform(df_eval_featured)\n",
    "            evaluator = BinaryClassificationEvaluator(labelCol=label, rawPredictionCol=\"prediction\")\n",
    "            metric = evaluator.evaluate(pred)\n",
    "            result[label].append(metric)\n",
    "            print(f\"Finished label {label} with {num_features} ROCAUG = {metric}\")\n",
    "    return result\n",
    "\n",
    "def plot_part1_tfidf(data: dict, size_generator=TF_num_features):\n",
    "    num_of_features = [i for i in size_generator()]\n",
    "    for label in data.keys():\n",
    "        plt.plot(num_of_features, data[label])\n",
    "    plt.legend(data.keys())\n",
    "    plt.xlabel('Num of features')\n",
    "    plt.ylabel('ROC AUG')\n",
    "    plt.xscale(\"log\")\n",
    "    plt.xticks(num_of_features,num_of_features)\n",
    "\n",
    "def plot_part2_w2v(data: dict, size_generator=W2V_num_features):\n",
    "    vector_size = [i for i in size_generator()]\n",
    "    for label in data.keys():\n",
    "        plt.plot(vector_size, data[label])\n",
    "    plt.legend(data.keys())\n",
    "    plt.xlabel('Vector size')\n",
    "    plt.ylabel('ROC AUG')\n",
    "    plt.xticks(vector_size,vector_size)\n",
    "    \n",
    "\n",
    "labels = ['toxic', 'severe_toxic', 'obscene', 'threat', 'insult', 'identity_hate']\n"
   ]
  },
  {
   "cell_type": "markdown",
   "metadata": {},
   "source": [
    "### Data preprocess"
   ]
  },
  {
   "cell_type": "code",
   "execution_count": 8,
   "metadata": {},
   "outputs": [
    {
     "name": "stdout",
     "output_type": "stream",
     "text": [
      "+----------------+--------------------+-----+------------+-------+------+------+-------------+\n",
      "|              id|        comment_text|toxic|severe_toxic|obscene|threat|insult|identity_hate|\n",
      "+----------------+--------------------+-----+------------+-------+------+------+-------------+\n",
      "|0000997932d777bf|Explanation\\nWhy ...|    0|           0|      0|     0|     0|            0|\n",
      "|000103f0d9cfb60f|D'aww! He matches...|    0|           0|      0|     0|     0|            0|\n",
      "|000113f07ec002fd|Hey man, I'm real...|    0|           0|      0|     0|     0|            0|\n",
      "|0001b41b1c6bb37e|\"\\nMore\\nI can't ...|    0|           0|      0|     0|     0|            0|\n",
      "|0001d958c54c6e35|You, sir, are my ...|    0|           0|      0|     0|     0|            0|\n",
      "+----------------+--------------------+-----+------------+-------+------+------+-------------+\n",
      "only showing top 5 rows\n",
      "\n"
     ]
    }
   ],
   "source": [
    "df = read_csv(PATH_TRAIN)\n",
    "df.show(5)"
   ]
  },
  {
   "cell_type": "code",
   "execution_count": 9,
   "metadata": {},
   "outputs": [
    {
     "name": "stdout",
     "output_type": "stream",
     "text": [
      "+----------------+--------------------+-----+------------+-------+------+------+-------------+--------------------+--------------------+--------------------+\n",
      "|              id|        comment_text|toxic|severe_toxic|obscene|threat|insult|identity_hate|          clean_text|               words|         clean_words|\n",
      "+----------------+--------------------+-----+------------+-------+------+------+-------------+--------------------+--------------------+--------------------+\n",
      "|0000997932d777bf|Explanation\\nWhy ...|    0|           0|      0|     0|     0|            0|explanation why t...|[explanation, why...|[explanation, edi...|\n",
      "|000103f0d9cfb60f|D'aww! He matches...|    0|           0|      0|     0|     0|            0|d'aww he matches ...|[d'aww, he, match...|[d'aww, matches, ...|\n",
      "|000113f07ec002fd|Hey man, I'm real...|    0|           0|      0|     0|     0|            0|hey man i'm reall...|[hey, man, i'm, r...|[hey, man, really...|\n",
      "|0001b41b1c6bb37e|\"\\nMore\\nI can't ...|    0|           0|      0|     0|     0|            0|more i can't make...|[more, i, can't, ...|[make, real, sugg...|\n",
      "|0001d958c54c6e35|You, sir, are my ...|    0|           0|      0|     0|     0|            0|you sir are my he...|[you, sir, are, m...|[sir, hero, chanc...|\n",
      "+----------------+--------------------+-----+------------+-------+------+------+-------------+--------------------+--------------------+--------------------+\n",
      "only showing top 5 rows\n",
      "\n"
     ]
    }
   ],
   "source": [
    "df = prepare_dataset(df)\n",
    "df_train, df_eval = df.randomSplit(weights=[0.8, 0.2])\n",
    "df.show(5)"
   ]
  },
  {
   "cell_type": "markdown",
   "metadata": {},
   "source": [
    "### Part 1 HashingTF & IDF"
   ]
  },
  {
   "cell_type": "code",
   "execution_count": 10,
   "metadata": {},
   "outputs": [
    {
     "name": "stderr",
     "output_type": "stream",
     "text": [
      "                                                                                \r"
     ]
    },
    {
     "name": "stdout",
     "output_type": "stream",
     "text": [
      "22/12/23 01:41:05 WARN InstanceBuilder$JavaBLAS: Failed to load implementation from:dev.ludovic.netlib.blas.VectorBLAS\n"
     ]
    },
    {
     "name": "stderr",
     "output_type": "stream",
     "text": [
      "[Stage 10:>                                                         (0 + 1) / 1]\r"
     ]
    },
    {
     "name": "stdout",
     "output_type": "stream",
     "text": [
      "22/12/23 01:41:12 WARN InstanceBuilder$NativeBLAS: Failed to load implementation from:dev.ludovic.netlib.blas.JNIBLAS\n",
      "22/12/23 01:41:12 WARN InstanceBuilder$NativeBLAS: Failed to load implementation from:dev.ludovic.netlib.blas.ForeignLinkerBLAS\n"
     ]
    },
    {
     "name": "stderr",
     "output_type": "stream",
     "text": [
      "                                                                                \r"
     ]
    },
    {
     "name": "stdout",
     "output_type": "stream",
     "text": [
      "Finished label toxic with 4 ROCAUG = 0.5003063833084803\n"
     ]
    },
    {
     "name": "stderr",
     "output_type": "stream",
     "text": [
      "                                                                                \r"
     ]
    },
    {
     "name": "stdout",
     "output_type": "stream",
     "text": [
      "Finished label severe_toxic with 4 ROCAUG = 0.5029962163898455\n"
     ]
    },
    {
     "name": "stderr",
     "output_type": "stream",
     "text": [
      "                                                                                \r"
     ]
    },
    {
     "name": "stdout",
     "output_type": "stream",
     "text": [
      "Finished label obscene with 4 ROCAUG = 0.5002654375860373\n"
     ]
    },
    {
     "name": "stderr",
     "output_type": "stream",
     "text": [
      "                                                                                \r"
     ]
    },
    {
     "name": "stdout",
     "output_type": "stream",
     "text": [
      "Finished label threat with 4 ROCAUG = 0.5\n"
     ]
    },
    {
     "name": "stderr",
     "output_type": "stream",
     "text": [
      "                                                                                \r"
     ]
    },
    {
     "name": "stdout",
     "output_type": "stream",
     "text": [
      "Finished label insult with 4 ROCAUG = 0.5006212784659109\n"
     ]
    },
    {
     "name": "stderr",
     "output_type": "stream",
     "text": [
      "                                                                                \r"
     ]
    },
    {
     "name": "stdout",
     "output_type": "stream",
     "text": [
      "Finished label identity_hate with 4 ROCAUG = 0.4999841852226721\n"
     ]
    },
    {
     "name": "stderr",
     "output_type": "stream",
     "text": [
      "[Stage 171:>                                                        (0 + 1) / 1]\r"
     ]
    },
    {
     "name": "stdout",
     "output_type": "stream",
     "text": [
      "22/12/23 01:43:28 WARN MemoryStore: Not enough space to cache rdd_515_0 in memory! (computed 17.0 MiB so far)\n",
      "22/12/23 01:43:28 WARN BlockManager: Persisting block rdd_515_0 to disk instead.\n"
     ]
    },
    {
     "name": "stderr",
     "output_type": "stream",
     "text": [
      "                                                                                \r"
     ]
    },
    {
     "name": "stdout",
     "output_type": "stream",
     "text": [
      "Finished label toxic with 64 ROCAUG = 0.5069716816827863\n"
     ]
    },
    {
     "name": "stderr",
     "output_type": "stream",
     "text": [
      "[Stage 228:>                                                        (0 + 1) / 1]\r"
     ]
    },
    {
     "name": "stdout",
     "output_type": "stream",
     "text": [
      "22/12/23 01:43:52 WARN MemoryStore: Not enough space to cache rdd_620_0 in memory! (computed 17.0 MiB so far)\n",
      "22/12/23 01:43:52 WARN BlockManager: Persisting block rdd_620_0 to disk instead.\n"
     ]
    },
    {
     "name": "stderr",
     "output_type": "stream",
     "text": [
      "                                                                                \r"
     ]
    },
    {
     "name": "stdout",
     "output_type": "stream",
     "text": [
      "Finished label severe_toxic with 64 ROCAUG = 0.5208310285025861\n"
     ]
    },
    {
     "name": "stderr",
     "output_type": "stream",
     "text": [
      "[Stage 337:>                                                        (0 + 1) / 1]\r"
     ]
    },
    {
     "name": "stdout",
     "output_type": "stream",
     "text": [
      "22/12/23 01:44:19 WARN MemoryStore: Not enough space to cache rdd_777_0 in memory! (computed 17.0 MiB so far)\n",
      "22/12/23 01:44:19 WARN BlockManager: Persisting block rdd_777_0 to disk instead.\n"
     ]
    },
    {
     "name": "stderr",
     "output_type": "stream",
     "text": [
      "                                                                                \r"
     ]
    },
    {
     "name": "stdout",
     "output_type": "stream",
     "text": [
      "Finished label obscene with 64 ROCAUG = 0.5082433429597935\n"
     ]
    },
    {
     "name": "stderr",
     "output_type": "stream",
     "text": [
      "[Stage 400:>                                                        (0 + 1) / 1]\r"
     ]
    },
    {
     "name": "stdout",
     "output_type": "stream",
     "text": [
      "22/12/23 01:44:43 WARN MemoryStore: Not enough space to cache rdd_888_0 in memory! (computed 17.0 MiB so far)\n",
      "22/12/23 01:44:43 WARN BlockManager: Persisting block rdd_888_0 to disk instead.\n"
     ]
    },
    {
     "name": "stderr",
     "output_type": "stream",
     "text": [
      "                                                                                \r"
     ]
    },
    {
     "name": "stdout",
     "output_type": "stream",
     "text": [
      "Finished label threat with 64 ROCAUG = 0.5108224280167126\n"
     ]
    },
    {
     "name": "stderr",
     "output_type": "stream",
     "text": [
      "[Stage 515:>                                                        (0 + 1) / 1]\r"
     ]
    },
    {
     "name": "stdout",
     "output_type": "stream",
     "text": [
      "22/12/23 01:45:11 WARN MemoryStore: Not enough space to cache rdd_1051_0 in memory! (computed 17.0 MiB so far)\n",
      "22/12/23 01:45:11 WARN BlockManager: Persisting block rdd_1051_0 to disk instead.\n"
     ]
    },
    {
     "name": "stderr",
     "output_type": "stream",
     "text": [
      "                                                                                \r"
     ]
    },
    {
     "name": "stdout",
     "output_type": "stream",
     "text": [
      "Finished label insult with 64 ROCAUG = 0.5079942368761913\n"
     ]
    },
    {
     "name": "stderr",
     "output_type": "stream",
     "text": [
      "[Stage 579:>                                                        (0 + 1) / 1]\r"
     ]
    },
    {
     "name": "stdout",
     "output_type": "stream",
     "text": [
      "22/12/23 01:45:35 WARN MemoryStore: Not enough space to cache rdd_1163_0 in memory! (computed 17.0 MiB so far)\n",
      "22/12/23 01:45:35 WARN BlockManager: Persisting block rdd_1163_0 to disk instead.\n"
     ]
    },
    {
     "name": "stderr",
     "output_type": "stream",
     "text": [
      "                                                                                \r"
     ]
    },
    {
     "name": "stdout",
     "output_type": "stream",
     "text": [
      "Finished label identity_hate with 64 ROCAUG = 0.5014722602437302\n"
     ]
    },
    {
     "name": "stderr",
     "output_type": "stream",
     "text": [
      "[Stage 677:>                                                        (0 + 1) / 1]\r"
     ]
    },
    {
     "name": "stdout",
     "output_type": "stream",
     "text": [
      "22/12/23 01:46:09 WARN MemoryStore: Not enough space to cache rdd_1318_0 in memory! (computed 17.0 MiB so far)\n",
      "22/12/23 01:46:09 WARN BlockManager: Persisting block rdd_1318_0 to disk instead.\n"
     ]
    },
    {
     "name": "stderr",
     "output_type": "stream",
     "text": [
      "                                                                                \r"
     ]
    },
    {
     "name": "stdout",
     "output_type": "stream",
     "text": [
      "22/12/23 01:46:11 WARN BLAS: Failed to load implementation from: com.github.fommil.netlib.NativeSystemBLAS\n",
      "22/12/23 01:46:11 WARN BLAS: Failed to load implementation from: com.github.fommil.netlib.NativeRefBLAS\n"
     ]
    },
    {
     "name": "stderr",
     "output_type": "stream",
     "text": [
      "                                                                                \r"
     ]
    },
    {
     "name": "stdout",
     "output_type": "stream",
     "text": [
      "Finished label toxic with 1024 ROCAUG = 0.6586493382078983\n"
     ]
    },
    {
     "name": "stderr",
     "output_type": "stream",
     "text": [
      "[Stage 791:>                                                        (0 + 1) / 1]\r"
     ]
    },
    {
     "name": "stdout",
     "output_type": "stream",
     "text": [
      "22/12/23 01:46:37 WARN MemoryStore: Not enough space to cache rdd_1480_0 in memory! (computed 17.0 MiB so far)\n",
      "22/12/23 01:46:37 WARN BlockManager: Persisting block rdd_1480_0 to disk instead.\n"
     ]
    },
    {
     "name": "stderr",
     "output_type": "stream",
     "text": [
      "                                                                                \r"
     ]
    },
    {
     "name": "stdout",
     "output_type": "stream",
     "text": [
      "Finished label severe_toxic with 1024 ROCAUG = 0.6325637869062216\n"
     ]
    },
    {
     "name": "stderr",
     "output_type": "stream",
     "text": [
      "[Stage 912:>                                                        (0 + 1) / 1]\r"
     ]
    },
    {
     "name": "stdout",
     "output_type": "stream",
     "text": [
      "22/12/23 01:47:04 WARN MemoryStore: Not enough space to cache rdd_1649_0 in memory! (computed 17.0 MiB so far)\n",
      "22/12/23 01:47:04 WARN BlockManager: Persisting block rdd_1649_0 to disk instead.\n"
     ]
    },
    {
     "name": "stderr",
     "output_type": "stream",
     "text": [
      "                                                                                \r"
     ]
    },
    {
     "name": "stdout",
     "output_type": "stream",
     "text": [
      "Finished label obscene with 1024 ROCAUG = 0.6899448424072303\n"
     ]
    },
    {
     "name": "stderr",
     "output_type": "stream",
     "text": [
      "[Stage 1025:>                                                       (0 + 1) / 1]\r"
     ]
    },
    {
     "name": "stdout",
     "output_type": "stream",
     "text": [
      "22/12/23 01:47:31 WARN MemoryStore: Not enough space to cache rdd_1810_0 in memory! (computed 17.0 MiB so far)\n",
      "22/12/23 01:47:31 WARN BlockManager: Persisting block rdd_1810_0 to disk instead.\n"
     ]
    },
    {
     "name": "stderr",
     "output_type": "stream",
     "text": [
      "                                                                                \r"
     ]
    },
    {
     "name": "stdout",
     "output_type": "stream",
     "text": [
      "Finished label threat with 1024 ROCAUG = 0.6293506269930839\n"
     ]
    },
    {
     "name": "stderr",
     "output_type": "stream",
     "text": [
      "[Stage 1157:>                                                       (0 + 1) / 1]\r"
     ]
    },
    {
     "name": "stdout",
     "output_type": "stream",
     "text": [
      "22/12/23 01:47:59 WARN MemoryStore: Not enough space to cache rdd_1990_0 in memory! (computed 17.0 MiB so far)\n",
      "22/12/23 01:47:59 WARN BlockManager: Persisting block rdd_1990_0 to disk instead.\n"
     ]
    },
    {
     "name": "stderr",
     "output_type": "stream",
     "text": [
      "                                                                                \r"
     ]
    },
    {
     "name": "stdout",
     "output_type": "stream",
     "text": [
      "Finished label insult with 1024 ROCAUG = 0.6194444103516316\n"
     ]
    },
    {
     "name": "stderr",
     "output_type": "stream",
     "text": [
      "[Stage 1270:>                                                       (0 + 1) / 1]\r"
     ]
    },
    {
     "name": "stdout",
     "output_type": "stream",
     "text": [
      "22/12/23 01:48:26 WARN MemoryStore: Not enough space to cache rdd_2151_0 in memory! (computed 17.0 MiB so far)\n",
      "22/12/23 01:48:26 WARN BlockManager: Persisting block rdd_2151_0 to disk instead.\n"
     ]
    },
    {
     "name": "stderr",
     "output_type": "stream",
     "text": [
      "                                                                                \r"
     ]
    },
    {
     "name": "stdout",
     "output_type": "stream",
     "text": [
      "Finished label identity_hate with 1024 ROCAUG = 0.5291101226462517\n"
     ]
    },
    {
     "name": "stderr",
     "output_type": "stream",
     "text": [
      "[Stage 1391:>                                                       (0 + 1) / 1]\r"
     ]
    },
    {
     "name": "stdout",
     "output_type": "stream",
     "text": [
      "22/12/23 01:49:02 WARN MemoryStore: Not enough space to cache rdd_2329_0 in memory! (computed 17.0 MiB so far)\n",
      "22/12/23 01:49:02 WARN BlockManager: Persisting block rdd_2329_0 to disk instead.\n"
     ]
    },
    {
     "name": "stderr",
     "output_type": "stream",
     "text": [
      "                                                                                \r"
     ]
    },
    {
     "name": "stdout",
     "output_type": "stream",
     "text": [
      "Finished label toxic with 16384 ROCAUG = 0.7621340756179006\n"
     ]
    },
    {
     "name": "stderr",
     "output_type": "stream",
     "text": [
      "[Stage 1503:>                                                       (0 + 1) / 1]\r"
     ]
    },
    {
     "name": "stdout",
     "output_type": "stream",
     "text": [
      "22/12/23 01:49:29 WARN MemoryStore: Not enough space to cache rdd_2489_0 in memory! (computed 17.0 MiB so far)\n",
      "22/12/23 01:49:29 WARN BlockManager: Persisting block rdd_2489_0 to disk instead.\n"
     ]
    },
    {
     "name": "stderr",
     "output_type": "stream",
     "text": [
      "                                                                                \r"
     ]
    },
    {
     "name": "stdout",
     "output_type": "stream",
     "text": [
      "Finished label severe_toxic with 16384 ROCAUG = 0.6580495562135821\n"
     ]
    },
    {
     "name": "stderr",
     "output_type": "stream",
     "text": [
      "[Stage 1619:>                                                       (0 + 1) / 1]\r"
     ]
    },
    {
     "name": "stdout",
     "output_type": "stream",
     "text": [
      "22/12/23 01:49:57 WARN MemoryStore: Not enough space to cache rdd_2653_0 in memory! (computed 17.0 MiB so far)\n",
      "22/12/23 01:49:57 WARN BlockManager: Persisting block rdd_2653_0 to disk instead.\n"
     ]
    },
    {
     "name": "stderr",
     "output_type": "stream",
     "text": [
      "                                                                                \r"
     ]
    },
    {
     "name": "stdout",
     "output_type": "stream",
     "text": [
      "Finished label obscene with 16384 ROCAUG = 0.7758074701396289\n"
     ]
    },
    {
     "name": "stderr",
     "output_type": "stream",
     "text": [
      "[Stage 1734:>                                                       (0 + 1) / 1]\r"
     ]
    },
    {
     "name": "stdout",
     "output_type": "stream",
     "text": [
      "22/12/23 01:50:25 WARN MemoryStore: Not enough space to cache rdd_2816_0 in memory! (computed 17.0 MiB so far)\n",
      "22/12/23 01:50:25 WARN BlockManager: Persisting block rdd_2816_0 to disk instead.\n"
     ]
    },
    {
     "name": "stderr",
     "output_type": "stream",
     "text": [
      "                                                                                \r"
     ]
    },
    {
     "name": "stdout",
     "output_type": "stream",
     "text": [
      "Finished label threat with 16384 ROCAUG = 0.6942991996239954\n"
     ]
    },
    {
     "name": "stderr",
     "output_type": "stream",
     "text": [
      "[Stage 1847:>                                                       (0 + 1) / 1]\r"
     ]
    },
    {
     "name": "stdout",
     "output_type": "stream",
     "text": [
      "22/12/23 01:50:53 WARN MemoryStore: Not enough space to cache rdd_2977_0 in memory! (computed 17.0 MiB so far)\n",
      "22/12/23 01:50:53 WARN BlockManager: Persisting block rdd_2977_0 to disk instead.\n"
     ]
    },
    {
     "name": "stderr",
     "output_type": "stream",
     "text": [
      "                                                                                \r"
     ]
    },
    {
     "name": "stdout",
     "output_type": "stream",
     "text": [
      "Finished label insult with 16384 ROCAUG = 0.7256707125775244\n"
     ]
    },
    {
     "name": "stderr",
     "output_type": "stream",
     "text": [
      "[Stage 1962:>                                                       (0 + 1) / 1]\r"
     ]
    },
    {
     "name": "stdout",
     "output_type": "stream",
     "text": [
      "22/12/23 01:51:20 WARN MemoryStore: Not enough space to cache rdd_3140_0 in memory! (computed 17.0 MiB so far)\n",
      "22/12/23 01:51:20 WARN BlockManager: Persisting block rdd_3140_0 to disk instead.\n"
     ]
    },
    {
     "name": "stderr",
     "output_type": "stream",
     "text": [
      "                                                                                \r"
     ]
    },
    {
     "name": "stdout",
     "output_type": "stream",
     "text": [
      "Finished label identity_hate with 16384 ROCAUG = 0.5968657234124936\n"
     ]
    },
    {
     "name": "stderr",
     "output_type": "stream",
     "text": [
      "                                                                                \r"
     ]
    },
    {
     "name": "stdout",
     "output_type": "stream",
     "text": [
      "22/12/23 01:51:41 WARN DAGScheduler: Broadcasting large task binary with size 4.1 MiB\n"
     ]
    },
    {
     "name": "stderr",
     "output_type": "stream",
     "text": [
      "                                                                                \r"
     ]
    },
    {
     "name": "stdout",
     "output_type": "stream",
     "text": [
      "22/12/23 01:51:49 WARN DAGScheduler: Broadcasting large task binary with size 4.1 MiB\n"
     ]
    },
    {
     "name": "stderr",
     "output_type": "stream",
     "text": [
      "[Stage 2084:>                                                       (0 + 1) / 1]\r"
     ]
    },
    {
     "name": "stdout",
     "output_type": "stream",
     "text": [
      "22/12/23 01:51:56 WARN MemoryStore: Not enough space to cache rdd_3319_0 in memory! (computed 17.0 MiB so far)\n",
      "22/12/23 01:51:56 WARN BlockManager: Persisting block rdd_3319_0 to disk instead.\n"
     ]
    },
    {
     "name": "stderr",
     "output_type": "stream",
     "text": [
      "                                                                                \r"
     ]
    },
    {
     "name": "stdout",
     "output_type": "stream",
     "text": [
      "22/12/23 01:51:57 WARN DAGScheduler: Broadcasting large task binary with size 4.1 MiB\n",
      "22/12/23 01:51:58 WARN DAGScheduler: Broadcasting large task binary with size 4.1 MiB\n",
      "22/12/23 01:51:58 WARN DAGScheduler: Broadcasting large task binary with size 4.1 MiB\n",
      "22/12/23 01:51:58 WARN DAGScheduler: Broadcasting large task binary with size 4.1 MiB\n",
      "22/12/23 01:51:58 WARN DAGScheduler: Broadcasting large task binary with size 4.1 MiB\n",
      "22/12/23 01:51:58 WARN DAGScheduler: Broadcasting large task binary with size 4.1 MiB\n",
      "22/12/23 01:51:58 WARN DAGScheduler: Broadcasting large task binary with size 4.1 MiB\n",
      "22/12/23 01:51:58 WARN DAGScheduler: Broadcasting large task binary with size 4.1 MiB\n",
      "22/12/23 01:51:58 WARN DAGScheduler: Broadcasting large task binary with size 4.1 MiB\n",
      "22/12/23 01:51:58 WARN DAGScheduler: Broadcasting large task binary with size 4.1 MiB\n",
      "22/12/23 01:51:58 WARN DAGScheduler: Broadcasting large task binary with size 4.1 MiB\n",
      "22/12/23 01:51:58 WARN DAGScheduler: Broadcasting large task binary with size 4.1 MiB\n",
      "22/12/23 01:51:58 WARN DAGScheduler: Broadcasting large task binary with size 4.1 MiB\n",
      "22/12/23 01:51:58 WARN DAGScheduler: Broadcasting large task binary with size 4.1 MiB\n",
      "22/12/23 01:51:58 WARN DAGScheduler: Broadcasting large task binary with size 4.1 MiB\n",
      "22/12/23 01:51:59 WARN DAGScheduler: Broadcasting large task binary with size 4.1 MiB\n",
      "22/12/23 01:51:59 WARN DAGScheduler: Broadcasting large task binary with size 4.1 MiB\n",
      "22/12/23 01:51:59 WARN DAGScheduler: Broadcasting large task binary with size 4.1 MiB\n",
      "22/12/23 01:51:59 WARN DAGScheduler: Broadcasting large task binary with size 4.1 MiB\n",
      "22/12/23 01:51:59 WARN DAGScheduler: Broadcasting large task binary with size 4.1 MiB\n",
      "22/12/23 01:51:59 WARN DAGScheduler: Broadcasting large task binary with size 4.1 MiB\n",
      "22/12/23 01:51:59 WARN DAGScheduler: Broadcasting large task binary with size 4.1 MiB\n",
      "22/12/23 01:51:59 WARN DAGScheduler: Broadcasting large task binary with size 4.1 MiB\n",
      "22/12/23 01:51:59 WARN DAGScheduler: Broadcasting large task binary with size 4.1 MiB\n",
      "22/12/23 01:51:59 WARN DAGScheduler: Broadcasting large task binary with size 4.1 MiB\n",
      "22/12/23 01:51:59 WARN DAGScheduler: Broadcasting large task binary with size 4.1 MiB\n",
      "22/12/23 01:51:59 WARN DAGScheduler: Broadcasting large task binary with size 4.1 MiB\n",
      "22/12/23 01:51:59 WARN DAGScheduler: Broadcasting large task binary with size 4.1 MiB\n",
      "22/12/23 01:51:59 WARN DAGScheduler: Broadcasting large task binary with size 4.1 MiB\n",
      "22/12/23 01:52:00 WARN DAGScheduler: Broadcasting large task binary with size 4.1 MiB\n",
      "22/12/23 01:52:00 WARN DAGScheduler: Broadcasting large task binary with size 4.1 MiB\n",
      "22/12/23 01:52:00 WARN DAGScheduler: Broadcasting large task binary with size 4.1 MiB\n",
      "22/12/23 01:52:00 WARN DAGScheduler: Broadcasting large task binary with size 4.1 MiB\n",
      "22/12/23 01:52:00 WARN DAGScheduler: Broadcasting large task binary with size 4.1 MiB\n",
      "22/12/23 01:52:00 WARN DAGScheduler: Broadcasting large task binary with size 4.1 MiB\n",
      "22/12/23 01:52:00 WARN DAGScheduler: Broadcasting large task binary with size 4.1 MiB\n",
      "22/12/23 01:52:00 WARN DAGScheduler: Broadcasting large task binary with size 4.1 MiB\n",
      "22/12/23 01:52:00 WARN DAGScheduler: Broadcasting large task binary with size 4.1 MiB\n",
      "22/12/23 01:52:00 WARN DAGScheduler: Broadcasting large task binary with size 4.1 MiB\n",
      "22/12/23 01:52:00 WARN DAGScheduler: Broadcasting large task binary with size 4.1 MiB\n",
      "22/12/23 01:52:00 WARN DAGScheduler: Broadcasting large task binary with size 4.1 MiB\n",
      "22/12/23 01:52:00 WARN DAGScheduler: Broadcasting large task binary with size 4.1 MiB\n",
      "22/12/23 01:52:00 WARN DAGScheduler: Broadcasting large task binary with size 4.1 MiB\n",
      "22/12/23 01:52:01 WARN DAGScheduler: Broadcasting large task binary with size 4.1 MiB\n",
      "22/12/23 01:52:01 WARN DAGScheduler: Broadcasting large task binary with size 4.1 MiB\n",
      "22/12/23 01:52:01 WARN DAGScheduler: Broadcasting large task binary with size 4.1 MiB\n",
      "22/12/23 01:52:01 WARN DAGScheduler: Broadcasting large task binary with size 4.1 MiB\n",
      "22/12/23 01:52:01 WARN DAGScheduler: Broadcasting large task binary with size 4.1 MiB\n",
      "22/12/23 01:52:01 WARN DAGScheduler: Broadcasting large task binary with size 4.1 MiB\n",
      "22/12/23 01:52:01 WARN DAGScheduler: Broadcasting large task binary with size 4.1 MiB\n",
      "22/12/23 01:52:01 WARN DAGScheduler: Broadcasting large task binary with size 4.1 MiB\n",
      "22/12/23 01:52:01 WARN DAGScheduler: Broadcasting large task binary with size 4.1 MiB\n",
      "22/12/23 01:52:01 WARN DAGScheduler: Broadcasting large task binary with size 4.1 MiB\n",
      "22/12/23 01:52:01 WARN DAGScheduler: Broadcasting large task binary with size 4.1 MiB\n",
      "22/12/23 01:52:01 WARN DAGScheduler: Broadcasting large task binary with size 4.1 MiB\n",
      "22/12/23 01:52:01 WARN DAGScheduler: Broadcasting large task binary with size 4.1 MiB\n",
      "22/12/23 01:52:01 WARN DAGScheduler: Broadcasting large task binary with size 4.1 MiB\n",
      "22/12/23 01:52:02 WARN DAGScheduler: Broadcasting large task binary with size 4.1 MiB\n",
      "22/12/23 01:52:02 WARN DAGScheduler: Broadcasting large task binary with size 4.1 MiB\n",
      "22/12/23 01:52:02 WARN DAGScheduler: Broadcasting large task binary with size 4.1 MiB\n",
      "22/12/23 01:52:02 WARN DAGScheduler: Broadcasting large task binary with size 4.1 MiB\n",
      "22/12/23 01:52:02 WARN DAGScheduler: Broadcasting large task binary with size 4.1 MiB\n",
      "22/12/23 01:52:02 WARN DAGScheduler: Broadcasting large task binary with size 4.1 MiB\n",
      "22/12/23 01:52:02 WARN DAGScheduler: Broadcasting large task binary with size 4.1 MiB\n",
      "22/12/23 01:52:02 WARN DAGScheduler: Broadcasting large task binary with size 4.1 MiB\n",
      "22/12/23 01:52:02 WARN DAGScheduler: Broadcasting large task binary with size 4.1 MiB\n",
      "22/12/23 01:52:02 WARN DAGScheduler: Broadcasting large task binary with size 4.1 MiB\n",
      "22/12/23 01:52:02 WARN DAGScheduler: Broadcasting large task binary with size 4.1 MiB\n",
      "22/12/23 01:52:02 WARN DAGScheduler: Broadcasting large task binary with size 4.1 MiB\n",
      "22/12/23 01:52:02 WARN DAGScheduler: Broadcasting large task binary with size 4.1 MiB\n",
      "22/12/23 01:52:02 WARN DAGScheduler: Broadcasting large task binary with size 4.1 MiB\n",
      "22/12/23 01:52:03 WARN DAGScheduler: Broadcasting large task binary with size 4.1 MiB\n",
      "22/12/23 01:52:03 WARN DAGScheduler: Broadcasting large task binary with size 4.1 MiB\n",
      "22/12/23 01:52:03 WARN DAGScheduler: Broadcasting large task binary with size 4.1 MiB\n",
      "22/12/23 01:52:03 WARN DAGScheduler: Broadcasting large task binary with size 4.1 MiB\n",
      "22/12/23 01:52:03 WARN DAGScheduler: Broadcasting large task binary with size 4.1 MiB\n",
      "22/12/23 01:52:03 WARN DAGScheduler: Broadcasting large task binary with size 4.1 MiB\n",
      "22/12/23 01:52:03 WARN DAGScheduler: Broadcasting large task binary with size 4.1 MiB\n",
      "22/12/23 01:52:03 WARN DAGScheduler: Broadcasting large task binary with size 4.1 MiB\n",
      "22/12/23 01:52:03 WARN DAGScheduler: Broadcasting large task binary with size 4.1 MiB\n",
      "22/12/23 01:52:03 WARN DAGScheduler: Broadcasting large task binary with size 4.1 MiB\n",
      "22/12/23 01:52:03 WARN DAGScheduler: Broadcasting large task binary with size 4.1 MiB\n",
      "22/12/23 01:52:03 WARN DAGScheduler: Broadcasting large task binary with size 4.1 MiB\n",
      "22/12/23 01:52:03 WARN DAGScheduler: Broadcasting large task binary with size 4.1 MiB\n",
      "22/12/23 01:52:03 WARN DAGScheduler: Broadcasting large task binary with size 4.1 MiB\n",
      "22/12/23 01:52:03 WARN DAGScheduler: Broadcasting large task binary with size 4.1 MiB\n",
      "22/12/23 01:52:04 WARN DAGScheduler: Broadcasting large task binary with size 4.1 MiB\n",
      "22/12/23 01:52:04 WARN DAGScheduler: Broadcasting large task binary with size 4.1 MiB\n",
      "22/12/23 01:52:04 WARN DAGScheduler: Broadcasting large task binary with size 4.1 MiB\n",
      "22/12/23 01:52:04 WARN DAGScheduler: Broadcasting large task binary with size 4.1 MiB\n",
      "22/12/23 01:52:04 WARN DAGScheduler: Broadcasting large task binary with size 4.1 MiB\n",
      "22/12/23 01:52:04 WARN DAGScheduler: Broadcasting large task binary with size 4.1 MiB\n",
      "22/12/23 01:52:04 WARN DAGScheduler: Broadcasting large task binary with size 4.1 MiB\n",
      "22/12/23 01:52:04 WARN DAGScheduler: Broadcasting large task binary with size 4.1 MiB\n",
      "22/12/23 01:52:04 WARN DAGScheduler: Broadcasting large task binary with size 4.1 MiB\n",
      "22/12/23 01:52:04 WARN DAGScheduler: Broadcasting large task binary with size 4.1 MiB\n",
      "22/12/23 01:52:04 WARN DAGScheduler: Broadcasting large task binary with size 4.1 MiB\n",
      "22/12/23 01:52:04 WARN DAGScheduler: Broadcasting large task binary with size 4.1 MiB\n",
      "22/12/23 01:52:04 WARN DAGScheduler: Broadcasting large task binary with size 4.1 MiB\n",
      "22/12/23 01:52:05 WARN DAGScheduler: Broadcasting large task binary with size 4.1 MiB\n",
      "22/12/23 01:52:05 WARN DAGScheduler: Broadcasting large task binary with size 4.1 MiB\n",
      "22/12/23 01:52:05 WARN DAGScheduler: Broadcasting large task binary with size 4.1 MiB\n",
      "22/12/23 01:52:05 WARN DAGScheduler: Broadcasting large task binary with size 5.5 MiB\n"
     ]
    },
    {
     "name": "stderr",
     "output_type": "stream",
     "text": [
      "                                                                                \r"
     ]
    },
    {
     "name": "stdout",
     "output_type": "stream",
     "text": [
      "Finished label toxic with 262144 ROCAUG = 0.7512782368233306\n",
      "22/12/23 01:52:12 WARN DAGScheduler: Broadcasting large task binary with size 4.1 MiB\n"
     ]
    },
    {
     "name": "stderr",
     "output_type": "stream",
     "text": [
      "                                                                                \r"
     ]
    },
    {
     "name": "stdout",
     "output_type": "stream",
     "text": [
      "22/12/23 01:52:20 WARN DAGScheduler: Broadcasting large task binary with size 4.1 MiB\n"
     ]
    },
    {
     "name": "stderr",
     "output_type": "stream",
     "text": [
      "[Stage 2197:>                                                       (0 + 1) / 1]\r"
     ]
    },
    {
     "name": "stdout",
     "output_type": "stream",
     "text": [
      "22/12/23 01:52:27 WARN MemoryStore: Not enough space to cache rdd_3480_0 in memory! (computed 17.0 MiB so far)\n",
      "22/12/23 01:52:27 WARN BlockManager: Persisting block rdd_3480_0 to disk instead.\n"
     ]
    },
    {
     "name": "stderr",
     "output_type": "stream",
     "text": [
      "                                                                                \r"
     ]
    },
    {
     "name": "stdout",
     "output_type": "stream",
     "text": [
      "22/12/23 01:52:29 WARN DAGScheduler: Broadcasting large task binary with size 4.1 MiB\n",
      "22/12/23 01:52:29 WARN DAGScheduler: Broadcasting large task binary with size 4.1 MiB\n",
      "22/12/23 01:52:29 WARN DAGScheduler: Broadcasting large task binary with size 4.1 MiB\n",
      "22/12/23 01:52:29 WARN DAGScheduler: Broadcasting large task binary with size 4.1 MiB\n",
      "22/12/23 01:52:29 WARN DAGScheduler: Broadcasting large task binary with size 4.1 MiB\n",
      "22/12/23 01:52:29 WARN DAGScheduler: Broadcasting large task binary with size 4.1 MiB\n",
      "22/12/23 01:52:29 WARN DAGScheduler: Broadcasting large task binary with size 4.1 MiB\n",
      "22/12/23 01:52:29 WARN DAGScheduler: Broadcasting large task binary with size 4.1 MiB\n",
      "22/12/23 01:52:29 WARN DAGScheduler: Broadcasting large task binary with size 4.1 MiB\n",
      "22/12/23 01:52:30 WARN DAGScheduler: Broadcasting large task binary with size 4.1 MiB\n",
      "22/12/23 01:52:30 WARN DAGScheduler: Broadcasting large task binary with size 4.1 MiB\n",
      "22/12/23 01:52:30 WARN DAGScheduler: Broadcasting large task binary with size 4.1 MiB\n",
      "22/12/23 01:52:30 WARN DAGScheduler: Broadcasting large task binary with size 4.1 MiB\n",
      "22/12/23 01:52:30 WARN DAGScheduler: Broadcasting large task binary with size 4.1 MiB\n",
      "22/12/23 01:52:30 WARN DAGScheduler: Broadcasting large task binary with size 4.1 MiB\n",
      "22/12/23 01:52:30 WARN DAGScheduler: Broadcasting large task binary with size 4.1 MiB\n",
      "22/12/23 01:52:30 WARN DAGScheduler: Broadcasting large task binary with size 4.1 MiB\n",
      "22/12/23 01:52:30 WARN DAGScheduler: Broadcasting large task binary with size 4.1 MiB\n",
      "22/12/23 01:52:30 WARN DAGScheduler: Broadcasting large task binary with size 4.1 MiB\n",
      "22/12/23 01:52:30 WARN DAGScheduler: Broadcasting large task binary with size 4.1 MiB\n",
      "22/12/23 01:52:30 WARN DAGScheduler: Broadcasting large task binary with size 4.1 MiB\n",
      "22/12/23 01:52:30 WARN DAGScheduler: Broadcasting large task binary with size 4.1 MiB\n",
      "22/12/23 01:52:30 WARN DAGScheduler: Broadcasting large task binary with size 4.1 MiB\n",
      "22/12/23 01:52:30 WARN DAGScheduler: Broadcasting large task binary with size 4.1 MiB\n",
      "22/12/23 01:52:31 WARN DAGScheduler: Broadcasting large task binary with size 4.1 MiB\n",
      "22/12/23 01:52:31 WARN DAGScheduler: Broadcasting large task binary with size 4.1 MiB\n",
      "22/12/23 01:52:31 WARN DAGScheduler: Broadcasting large task binary with size 4.1 MiB\n",
      "22/12/23 01:52:31 WARN DAGScheduler: Broadcasting large task binary with size 4.1 MiB\n",
      "22/12/23 01:52:31 WARN DAGScheduler: Broadcasting large task binary with size 4.1 MiB\n",
      "22/12/23 01:52:31 WARN DAGScheduler: Broadcasting large task binary with size 4.1 MiB\n",
      "22/12/23 01:52:31 WARN DAGScheduler: Broadcasting large task binary with size 4.1 MiB\n",
      "22/12/23 01:52:31 WARN DAGScheduler: Broadcasting large task binary with size 4.1 MiB\n",
      "22/12/23 01:52:31 WARN DAGScheduler: Broadcasting large task binary with size 4.1 MiB\n",
      "22/12/23 01:52:31 WARN DAGScheduler: Broadcasting large task binary with size 4.1 MiB\n",
      "22/12/23 01:52:31 WARN DAGScheduler: Broadcasting large task binary with size 4.1 MiB\n",
      "22/12/23 01:52:31 WARN DAGScheduler: Broadcasting large task binary with size 4.1 MiB\n",
      "22/12/23 01:52:31 WARN DAGScheduler: Broadcasting large task binary with size 4.1 MiB\n",
      "22/12/23 01:52:31 WARN DAGScheduler: Broadcasting large task binary with size 4.1 MiB\n",
      "22/12/23 01:52:32 WARN DAGScheduler: Broadcasting large task binary with size 4.1 MiB\n",
      "22/12/23 01:52:32 WARN DAGScheduler: Broadcasting large task binary with size 4.1 MiB\n",
      "22/12/23 01:52:32 WARN DAGScheduler: Broadcasting large task binary with size 4.1 MiB\n",
      "22/12/23 01:52:32 WARN DAGScheduler: Broadcasting large task binary with size 4.1 MiB\n",
      "22/12/23 01:52:32 WARN DAGScheduler: Broadcasting large task binary with size 4.1 MiB\n",
      "22/12/23 01:52:32 WARN DAGScheduler: Broadcasting large task binary with size 4.1 MiB\n",
      "22/12/23 01:52:32 WARN DAGScheduler: Broadcasting large task binary with size 4.1 MiB\n",
      "22/12/23 01:52:32 WARN DAGScheduler: Broadcasting large task binary with size 4.1 MiB\n",
      "22/12/23 01:52:32 WARN DAGScheduler: Broadcasting large task binary with size 4.1 MiB\n",
      "22/12/23 01:52:32 WARN DAGScheduler: Broadcasting large task binary with size 4.1 MiB\n",
      "22/12/23 01:52:32 WARN DAGScheduler: Broadcasting large task binary with size 4.1 MiB\n",
      "22/12/23 01:52:32 WARN DAGScheduler: Broadcasting large task binary with size 4.1 MiB\n",
      "22/12/23 01:52:32 WARN DAGScheduler: Broadcasting large task binary with size 4.1 MiB\n",
      "22/12/23 01:52:33 WARN DAGScheduler: Broadcasting large task binary with size 4.1 MiB\n",
      "22/12/23 01:52:33 WARN DAGScheduler: Broadcasting large task binary with size 4.1 MiB\n",
      "22/12/23 01:52:33 WARN DAGScheduler: Broadcasting large task binary with size 4.1 MiB\n",
      "22/12/23 01:52:33 WARN DAGScheduler: Broadcasting large task binary with size 4.1 MiB\n",
      "22/12/23 01:52:33 WARN DAGScheduler: Broadcasting large task binary with size 4.1 MiB\n",
      "22/12/23 01:52:33 WARN BlockManager: Asked to remove block broadcast_4332, which does not exist\n",
      "22/12/23 01:52:33 WARN DAGScheduler: Broadcasting large task binary with size 4.1 MiB\n",
      "22/12/23 01:52:33 WARN DAGScheduler: Broadcasting large task binary with size 4.1 MiB\n",
      "22/12/23 01:52:33 WARN DAGScheduler: Broadcasting large task binary with size 4.1 MiB\n",
      "22/12/23 01:52:33 WARN DAGScheduler: Broadcasting large task binary with size 4.1 MiB\n",
      "22/12/23 01:52:33 WARN DAGScheduler: Broadcasting large task binary with size 4.1 MiB\n",
      "22/12/23 01:52:33 WARN DAGScheduler: Broadcasting large task binary with size 4.1 MiB\n",
      "22/12/23 01:52:33 WARN DAGScheduler: Broadcasting large task binary with size 4.1 MiB\n",
      "22/12/23 01:52:33 WARN DAGScheduler: Broadcasting large task binary with size 4.1 MiB\n",
      "22/12/23 01:52:33 WARN DAGScheduler: Broadcasting large task binary with size 4.1 MiB\n",
      "22/12/23 01:52:34 WARN DAGScheduler: Broadcasting large task binary with size 4.1 MiB\n",
      "22/12/23 01:52:34 WARN DAGScheduler: Broadcasting large task binary with size 4.1 MiB\n",
      "22/12/23 01:52:34 WARN DAGScheduler: Broadcasting large task binary with size 4.1 MiB\n",
      "22/12/23 01:52:34 WARN DAGScheduler: Broadcasting large task binary with size 4.1 MiB\n",
      "22/12/23 01:52:34 WARN DAGScheduler: Broadcasting large task binary with size 4.1 MiB\n",
      "22/12/23 01:52:34 WARN DAGScheduler: Broadcasting large task binary with size 4.1 MiB\n",
      "22/12/23 01:52:34 WARN DAGScheduler: Broadcasting large task binary with size 4.1 MiB\n",
      "22/12/23 01:52:34 WARN DAGScheduler: Broadcasting large task binary with size 4.1 MiB\n",
      "22/12/23 01:52:34 WARN DAGScheduler: Broadcasting large task binary with size 4.1 MiB\n",
      "22/12/23 01:52:34 WARN DAGScheduler: Broadcasting large task binary with size 4.1 MiB\n",
      "22/12/23 01:52:34 WARN DAGScheduler: Broadcasting large task binary with size 4.1 MiB\n",
      "22/12/23 01:52:34 WARN DAGScheduler: Broadcasting large task binary with size 4.1 MiB\n",
      "22/12/23 01:52:34 WARN DAGScheduler: Broadcasting large task binary with size 4.1 MiB\n",
      "22/12/23 01:52:34 WARN DAGScheduler: Broadcasting large task binary with size 4.1 MiB\n",
      "22/12/23 01:52:35 WARN DAGScheduler: Broadcasting large task binary with size 4.1 MiB\n",
      "22/12/23 01:52:35 WARN DAGScheduler: Broadcasting large task binary with size 4.1 MiB\n",
      "22/12/23 01:52:35 WARN DAGScheduler: Broadcasting large task binary with size 4.1 MiB\n",
      "22/12/23 01:52:35 WARN DAGScheduler: Broadcasting large task binary with size 4.1 MiB\n",
      "22/12/23 01:52:35 WARN DAGScheduler: Broadcasting large task binary with size 4.1 MiB\n",
      "22/12/23 01:52:35 WARN DAGScheduler: Broadcasting large task binary with size 4.1 MiB\n",
      "22/12/23 01:52:35 WARN DAGScheduler: Broadcasting large task binary with size 4.1 MiB\n",
      "22/12/23 01:52:35 WARN DAGScheduler: Broadcasting large task binary with size 4.1 MiB\n",
      "22/12/23 01:52:35 WARN DAGScheduler: Broadcasting large task binary with size 4.1 MiB\n",
      "22/12/23 01:52:35 WARN DAGScheduler: Broadcasting large task binary with size 4.1 MiB\n",
      "22/12/23 01:52:35 WARN DAGScheduler: Broadcasting large task binary with size 4.1 MiB\n",
      "22/12/23 01:52:35 WARN DAGScheduler: Broadcasting large task binary with size 4.1 MiB\n",
      "22/12/23 01:52:35 WARN DAGScheduler: Broadcasting large task binary with size 4.1 MiB\n",
      "22/12/23 01:52:35 WARN DAGScheduler: Broadcasting large task binary with size 4.1 MiB\n",
      "22/12/23 01:52:36 WARN DAGScheduler: Broadcasting large task binary with size 4.1 MiB\n",
      "22/12/23 01:52:36 WARN DAGScheduler: Broadcasting large task binary with size 4.1 MiB\n",
      "22/12/23 01:52:36 WARN DAGScheduler: Broadcasting large task binary with size 4.1 MiB\n",
      "22/12/23 01:52:36 WARN DAGScheduler: Broadcasting large task binary with size 4.1 MiB\n",
      "22/12/23 01:52:36 WARN DAGScheduler: Broadcasting large task binary with size 4.1 MiB\n",
      "22/12/23 01:52:36 WARN DAGScheduler: Broadcasting large task binary with size 4.1 MiB\n",
      "22/12/23 01:52:36 WARN DAGScheduler: Broadcasting large task binary with size 4.1 MiB\n",
      "22/12/23 01:52:36 WARN DAGScheduler: Broadcasting large task binary with size 4.1 MiB\n",
      "22/12/23 01:52:36 WARN DAGScheduler: Broadcasting large task binary with size 4.1 MiB\n",
      "22/12/23 01:52:36 WARN DAGScheduler: Broadcasting large task binary with size 4.1 MiB\n",
      "22/12/23 01:52:36 WARN DAGScheduler: Broadcasting large task binary with size 4.1 MiB\n",
      "22/12/23 01:52:36 WARN DAGScheduler: Broadcasting large task binary with size 4.1 MiB\n",
      "22/12/23 01:52:36 WARN DAGScheduler: Broadcasting large task binary with size 4.1 MiB\n",
      "22/12/23 01:52:36 WARN DAGScheduler: Broadcasting large task binary with size 4.1 MiB\n",
      "22/12/23 01:52:37 WARN DAGScheduler: Broadcasting large task binary with size 5.5 MiB\n"
     ]
    },
    {
     "name": "stderr",
     "output_type": "stream",
     "text": [
      "                                                                                \r"
     ]
    },
    {
     "name": "stdout",
     "output_type": "stream",
     "text": [
      "Finished label severe_toxic with 262144 ROCAUG = 0.6489681097895477\n",
      "22/12/23 01:52:44 WARN DAGScheduler: Broadcasting large task binary with size 4.1 MiB\n"
     ]
    },
    {
     "name": "stderr",
     "output_type": "stream",
     "text": [
      "                                                                                \r"
     ]
    },
    {
     "name": "stdout",
     "output_type": "stream",
     "text": [
      "22/12/23 01:52:52 WARN DAGScheduler: Broadcasting large task binary with size 4.1 MiB\n"
     ]
    },
    {
     "name": "stderr",
     "output_type": "stream",
     "text": [
      "[Stage 2315:>                                                       (0 + 1) / 1]\r"
     ]
    },
    {
     "name": "stdout",
     "output_type": "stream",
     "text": [
      "22/12/23 01:53:00 WARN MemoryStore: Not enough space to cache rdd_3646_0 in memory! (computed 17.0 MiB so far)\n",
      "22/12/23 01:53:00 WARN BlockManager: Persisting block rdd_3646_0 to disk instead.\n"
     ]
    },
    {
     "name": "stderr",
     "output_type": "stream",
     "text": [
      "                                                                                \r"
     ]
    },
    {
     "name": "stdout",
     "output_type": "stream",
     "text": [
      "22/12/23 01:53:01 WARN DAGScheduler: Broadcasting large task binary with size 4.1 MiB\n",
      "22/12/23 01:53:01 WARN DAGScheduler: Broadcasting large task binary with size 4.1 MiB\n",
      "22/12/23 01:53:01 WARN DAGScheduler: Broadcasting large task binary with size 4.1 MiB\n",
      "22/12/23 01:53:01 WARN DAGScheduler: Broadcasting large task binary with size 4.1 MiB\n",
      "22/12/23 01:53:01 WARN DAGScheduler: Broadcasting large task binary with size 4.1 MiB\n",
      "22/12/23 01:53:01 WARN DAGScheduler: Broadcasting large task binary with size 4.1 MiB\n",
      "22/12/23 01:53:02 WARN DAGScheduler: Broadcasting large task binary with size 4.1 MiB\n",
      "22/12/23 01:53:02 WARN DAGScheduler: Broadcasting large task binary with size 4.1 MiB\n",
      "22/12/23 01:53:02 WARN DAGScheduler: Broadcasting large task binary with size 4.1 MiB\n",
      "22/12/23 01:53:02 WARN DAGScheduler: Broadcasting large task binary with size 4.1 MiB\n",
      "22/12/23 01:53:02 WARN DAGScheduler: Broadcasting large task binary with size 4.1 MiB\n",
      "22/12/23 01:53:02 WARN DAGScheduler: Broadcasting large task binary with size 4.1 MiB\n",
      "22/12/23 01:53:02 WARN DAGScheduler: Broadcasting large task binary with size 4.1 MiB\n",
      "22/12/23 01:53:02 WARN DAGScheduler: Broadcasting large task binary with size 4.1 MiB\n",
      "22/12/23 01:53:02 WARN DAGScheduler: Broadcasting large task binary with size 4.1 MiB\n",
      "22/12/23 01:53:02 WARN DAGScheduler: Broadcasting large task binary with size 4.1 MiB\n",
      "22/12/23 01:53:02 WARN DAGScheduler: Broadcasting large task binary with size 4.1 MiB\n",
      "22/12/23 01:53:02 WARN DAGScheduler: Broadcasting large task binary with size 4.1 MiB\n",
      "22/12/23 01:53:02 WARN DAGScheduler: Broadcasting large task binary with size 4.1 MiB\n",
      "22/12/23 01:53:03 WARN DAGScheduler: Broadcasting large task binary with size 4.1 MiB\n",
      "22/12/23 01:53:03 WARN DAGScheduler: Broadcasting large task binary with size 4.1 MiB\n",
      "22/12/23 01:53:03 WARN DAGScheduler: Broadcasting large task binary with size 4.1 MiB\n",
      "22/12/23 01:53:03 WARN DAGScheduler: Broadcasting large task binary with size 4.1 MiB\n",
      "22/12/23 01:53:03 WARN DAGScheduler: Broadcasting large task binary with size 4.1 MiB\n",
      "22/12/23 01:53:03 WARN DAGScheduler: Broadcasting large task binary with size 4.1 MiB\n",
      "22/12/23 01:53:03 WARN DAGScheduler: Broadcasting large task binary with size 4.1 MiB\n",
      "22/12/23 01:53:03 WARN DAGScheduler: Broadcasting large task binary with size 4.1 MiB\n",
      "22/12/23 01:53:03 WARN DAGScheduler: Broadcasting large task binary with size 4.1 MiB\n",
      "22/12/23 01:53:03 WARN DAGScheduler: Broadcasting large task binary with size 4.1 MiB\n",
      "22/12/23 01:53:03 WARN DAGScheduler: Broadcasting large task binary with size 4.1 MiB\n",
      "22/12/23 01:53:03 WARN DAGScheduler: Broadcasting large task binary with size 4.1 MiB\n",
      "22/12/23 01:53:03 WARN DAGScheduler: Broadcasting large task binary with size 4.1 MiB\n",
      "22/12/23 01:53:04 WARN DAGScheduler: Broadcasting large task binary with size 4.1 MiB\n",
      "22/12/23 01:53:04 WARN DAGScheduler: Broadcasting large task binary with size 4.1 MiB\n",
      "22/12/23 01:53:04 WARN DAGScheduler: Broadcasting large task binary with size 4.1 MiB\n",
      "22/12/23 01:53:04 WARN DAGScheduler: Broadcasting large task binary with size 4.1 MiB\n",
      "22/12/23 01:53:04 WARN DAGScheduler: Broadcasting large task binary with size 4.1 MiB\n",
      "22/12/23 01:53:04 WARN DAGScheduler: Broadcasting large task binary with size 4.1 MiB\n",
      "22/12/23 01:53:04 WARN DAGScheduler: Broadcasting large task binary with size 4.1 MiB\n",
      "22/12/23 01:53:04 WARN DAGScheduler: Broadcasting large task binary with size 4.1 MiB\n",
      "22/12/23 01:53:04 WARN DAGScheduler: Broadcasting large task binary with size 4.1 MiB\n",
      "22/12/23 01:53:04 WARN DAGScheduler: Broadcasting large task binary with size 4.1 MiB\n",
      "22/12/23 01:53:04 WARN DAGScheduler: Broadcasting large task binary with size 4.1 MiB\n",
      "22/12/23 01:53:04 WARN DAGScheduler: Broadcasting large task binary with size 4.1 MiB\n",
      "22/12/23 01:53:04 WARN DAGScheduler: Broadcasting large task binary with size 4.1 MiB\n",
      "22/12/23 01:53:04 WARN DAGScheduler: Broadcasting large task binary with size 4.1 MiB\n",
      "22/12/23 01:53:05 WARN DAGScheduler: Broadcasting large task binary with size 4.1 MiB\n",
      "22/12/23 01:53:05 WARN DAGScheduler: Broadcasting large task binary with size 4.1 MiB\n",
      "22/12/23 01:53:05 WARN DAGScheduler: Broadcasting large task binary with size 4.1 MiB\n",
      "22/12/23 01:53:05 WARN DAGScheduler: Broadcasting large task binary with size 4.1 MiB\n",
      "22/12/23 01:53:05 WARN DAGScheduler: Broadcasting large task binary with size 4.1 MiB\n",
      "22/12/23 01:53:05 WARN DAGScheduler: Broadcasting large task binary with size 4.1 MiB\n",
      "22/12/23 01:53:05 WARN DAGScheduler: Broadcasting large task binary with size 4.1 MiB\n",
      "22/12/23 01:53:05 WARN DAGScheduler: Broadcasting large task binary with size 4.1 MiB\n",
      "22/12/23 01:53:05 WARN DAGScheduler: Broadcasting large task binary with size 4.1 MiB\n",
      "22/12/23 01:53:05 WARN DAGScheduler: Broadcasting large task binary with size 4.1 MiB\n",
      "22/12/23 01:53:05 WARN DAGScheduler: Broadcasting large task binary with size 4.1 MiB\n",
      "22/12/23 01:53:05 WARN DAGScheduler: Broadcasting large task binary with size 4.1 MiB\n",
      "22/12/23 01:53:05 WARN DAGScheduler: Broadcasting large task binary with size 4.1 MiB\n",
      "22/12/23 01:53:06 WARN DAGScheduler: Broadcasting large task binary with size 4.1 MiB\n",
      "22/12/23 01:53:06 WARN DAGScheduler: Broadcasting large task binary with size 4.1 MiB\n",
      "22/12/23 01:53:06 WARN DAGScheduler: Broadcasting large task binary with size 4.1 MiB\n",
      "22/12/23 01:53:06 WARN DAGScheduler: Broadcasting large task binary with size 4.1 MiB\n",
      "22/12/23 01:53:06 WARN DAGScheduler: Broadcasting large task binary with size 4.1 MiB\n",
      "22/12/23 01:53:06 WARN DAGScheduler: Broadcasting large task binary with size 4.1 MiB\n",
      "22/12/23 01:53:06 WARN DAGScheduler: Broadcasting large task binary with size 4.1 MiB\n",
      "22/12/23 01:53:06 WARN DAGScheduler: Broadcasting large task binary with size 4.1 MiB\n",
      "22/12/23 01:53:06 WARN DAGScheduler: Broadcasting large task binary with size 4.1 MiB\n",
      "22/12/23 01:53:06 WARN DAGScheduler: Broadcasting large task binary with size 4.1 MiB\n",
      "22/12/23 01:53:06 WARN DAGScheduler: Broadcasting large task binary with size 4.1 MiB\n",
      "22/12/23 01:53:06 WARN DAGScheduler: Broadcasting large task binary with size 4.1 MiB\n",
      "22/12/23 01:53:06 WARN DAGScheduler: Broadcasting large task binary with size 4.1 MiB\n",
      "22/12/23 01:53:07 WARN DAGScheduler: Broadcasting large task binary with size 4.1 MiB\n",
      "22/12/23 01:53:07 WARN DAGScheduler: Broadcasting large task binary with size 4.1 MiB\n",
      "22/12/23 01:53:07 WARN DAGScheduler: Broadcasting large task binary with size 4.1 MiB\n",
      "22/12/23 01:53:07 WARN DAGScheduler: Broadcasting large task binary with size 4.1 MiB\n",
      "22/12/23 01:53:07 WARN DAGScheduler: Broadcasting large task binary with size 4.1 MiB\n",
      "22/12/23 01:53:07 WARN DAGScheduler: Broadcasting large task binary with size 4.1 MiB\n",
      "22/12/23 01:53:07 WARN DAGScheduler: Broadcasting large task binary with size 4.1 MiB\n",
      "22/12/23 01:53:07 WARN DAGScheduler: Broadcasting large task binary with size 4.1 MiB\n",
      "22/12/23 01:53:07 WARN DAGScheduler: Broadcasting large task binary with size 4.1 MiB\n",
      "22/12/23 01:53:07 WARN DAGScheduler: Broadcasting large task binary with size 4.1 MiB\n",
      "22/12/23 01:53:07 WARN DAGScheduler: Broadcasting large task binary with size 4.1 MiB\n",
      "22/12/23 01:53:07 WARN DAGScheduler: Broadcasting large task binary with size 4.1 MiB\n",
      "22/12/23 01:53:07 WARN DAGScheduler: Broadcasting large task binary with size 4.1 MiB\n",
      "22/12/23 01:53:08 WARN DAGScheduler: Broadcasting large task binary with size 4.1 MiB\n",
      "22/12/23 01:53:08 WARN DAGScheduler: Broadcasting large task binary with size 4.1 MiB\n",
      "22/12/23 01:53:08 WARN DAGScheduler: Broadcasting large task binary with size 4.1 MiB\n",
      "22/12/23 01:53:08 WARN DAGScheduler: Broadcasting large task binary with size 4.1 MiB\n",
      "22/12/23 01:53:08 WARN DAGScheduler: Broadcasting large task binary with size 4.1 MiB\n",
      "22/12/23 01:53:08 WARN DAGScheduler: Broadcasting large task binary with size 4.1 MiB\n",
      "22/12/23 01:53:08 WARN DAGScheduler: Broadcasting large task binary with size 4.1 MiB\n",
      "22/12/23 01:53:08 WARN DAGScheduler: Broadcasting large task binary with size 4.1 MiB\n",
      "22/12/23 01:53:08 WARN DAGScheduler: Broadcasting large task binary with size 4.1 MiB\n",
      "22/12/23 01:53:08 WARN DAGScheduler: Broadcasting large task binary with size 4.1 MiB\n",
      "22/12/23 01:53:08 WARN DAGScheduler: Broadcasting large task binary with size 4.1 MiB\n",
      "22/12/23 01:53:08 WARN DAGScheduler: Broadcasting large task binary with size 4.1 MiB\n",
      "22/12/23 01:53:08 WARN DAGScheduler: Broadcasting large task binary with size 4.1 MiB\n",
      "22/12/23 01:53:08 WARN DAGScheduler: Broadcasting large task binary with size 4.1 MiB\n",
      "22/12/23 01:53:09 WARN DAGScheduler: Broadcasting large task binary with size 4.1 MiB\n",
      "22/12/23 01:53:09 WARN DAGScheduler: Broadcasting large task binary with size 4.1 MiB\n",
      "22/12/23 01:53:09 WARN DAGScheduler: Broadcasting large task binary with size 4.1 MiB\n",
      "22/12/23 01:53:09 WARN DAGScheduler: Broadcasting large task binary with size 4.1 MiB\n",
      "22/12/23 01:53:09 WARN DAGScheduler: Broadcasting large task binary with size 5.5 MiB\n"
     ]
    },
    {
     "name": "stderr",
     "output_type": "stream",
     "text": [
      "                                                                                \r"
     ]
    },
    {
     "name": "stdout",
     "output_type": "stream",
     "text": [
      "Finished label obscene with 262144 ROCAUG = 0.7443882936585304\n",
      "22/12/23 01:53:16 WARN DAGScheduler: Broadcasting large task binary with size 4.1 MiB\n"
     ]
    },
    {
     "name": "stderr",
     "output_type": "stream",
     "text": [
      "                                                                                \r"
     ]
    },
    {
     "name": "stdout",
     "output_type": "stream",
     "text": [
      "22/12/23 01:53:25 WARN DAGScheduler: Broadcasting large task binary with size 4.1 MiB\n"
     ]
    },
    {
     "name": "stderr",
     "output_type": "stream",
     "text": [
      "[Stage 2429:>                                                       (0 + 1) / 1]\r"
     ]
    },
    {
     "name": "stdout",
     "output_type": "stream",
     "text": [
      "22/12/23 01:53:32 WARN MemoryStore: Not enough space to cache rdd_3808_0 in memory! (computed 17.0 MiB so far)\n",
      "22/12/23 01:53:32 WARN BlockManager: Persisting block rdd_3808_0 to disk instead.\n"
     ]
    },
    {
     "name": "stderr",
     "output_type": "stream",
     "text": [
      "                                                                                \r"
     ]
    },
    {
     "name": "stdout",
     "output_type": "stream",
     "text": [
      "22/12/23 01:53:33 WARN DAGScheduler: Broadcasting large task binary with size 4.1 MiB\n",
      "22/12/23 01:53:33 WARN DAGScheduler: Broadcasting large task binary with size 4.1 MiB\n",
      "22/12/23 01:53:34 WARN DAGScheduler: Broadcasting large task binary with size 4.1 MiB\n",
      "22/12/23 01:53:34 WARN DAGScheduler: Broadcasting large task binary with size 4.1 MiB\n",
      "22/12/23 01:53:34 WARN DAGScheduler: Broadcasting large task binary with size 4.1 MiB\n",
      "22/12/23 01:53:34 WARN DAGScheduler: Broadcasting large task binary with size 4.1 MiB\n",
      "22/12/23 01:53:34 WARN DAGScheduler: Broadcasting large task binary with size 4.1 MiB\n",
      "22/12/23 01:53:34 WARN DAGScheduler: Broadcasting large task binary with size 4.1 MiB\n",
      "22/12/23 01:53:34 WARN DAGScheduler: Broadcasting large task binary with size 4.1 MiB\n",
      "22/12/23 01:53:34 WARN DAGScheduler: Broadcasting large task binary with size 4.1 MiB\n",
      "22/12/23 01:53:34 WARN DAGScheduler: Broadcasting large task binary with size 4.1 MiB\n",
      "22/12/23 01:53:34 WARN DAGScheduler: Broadcasting large task binary with size 4.1 MiB\n",
      "22/12/23 01:53:34 WARN DAGScheduler: Broadcasting large task binary with size 4.1 MiB\n",
      "22/12/23 01:53:34 WARN DAGScheduler: Broadcasting large task binary with size 4.1 MiB\n",
      "22/12/23 01:53:34 WARN DAGScheduler: Broadcasting large task binary with size 4.1 MiB\n",
      "22/12/23 01:53:35 WARN DAGScheduler: Broadcasting large task binary with size 4.1 MiB\n",
      "22/12/23 01:53:35 WARN DAGScheduler: Broadcasting large task binary with size 4.1 MiB\n",
      "22/12/23 01:53:35 WARN DAGScheduler: Broadcasting large task binary with size 4.1 MiB\n",
      "22/12/23 01:53:35 WARN DAGScheduler: Broadcasting large task binary with size 4.1 MiB\n",
      "22/12/23 01:53:35 WARN DAGScheduler: Broadcasting large task binary with size 4.1 MiB\n",
      "22/12/23 01:53:35 WARN DAGScheduler: Broadcasting large task binary with size 4.1 MiB\n",
      "22/12/23 01:53:35 WARN DAGScheduler: Broadcasting large task binary with size 4.1 MiB\n",
      "22/12/23 01:53:35 WARN DAGScheduler: Broadcasting large task binary with size 4.1 MiB\n",
      "22/12/23 01:53:35 WARN DAGScheduler: Broadcasting large task binary with size 4.1 MiB\n",
      "22/12/23 01:53:35 WARN DAGScheduler: Broadcasting large task binary with size 4.1 MiB\n",
      "22/12/23 01:53:35 WARN DAGScheduler: Broadcasting large task binary with size 4.1 MiB\n",
      "22/12/23 01:53:35 WARN DAGScheduler: Broadcasting large task binary with size 4.1 MiB\n",
      "22/12/23 01:53:35 WARN DAGScheduler: Broadcasting large task binary with size 4.1 MiB\n",
      "22/12/23 01:53:35 WARN DAGScheduler: Broadcasting large task binary with size 4.1 MiB\n",
      "22/12/23 01:53:36 WARN DAGScheduler: Broadcasting large task binary with size 4.1 MiB\n",
      "22/12/23 01:53:36 WARN DAGScheduler: Broadcasting large task binary with size 4.1 MiB\n",
      "22/12/23 01:53:36 WARN DAGScheduler: Broadcasting large task binary with size 4.1 MiB\n",
      "22/12/23 01:53:36 WARN DAGScheduler: Broadcasting large task binary with size 4.1 MiB\n",
      "22/12/23 01:53:36 WARN DAGScheduler: Broadcasting large task binary with size 4.1 MiB\n",
      "22/12/23 01:53:36 WARN DAGScheduler: Broadcasting large task binary with size 4.1 MiB\n",
      "22/12/23 01:53:36 WARN DAGScheduler: Broadcasting large task binary with size 4.1 MiB\n",
      "22/12/23 01:53:36 WARN DAGScheduler: Broadcasting large task binary with size 4.1 MiB\n",
      "22/12/23 01:53:36 WARN DAGScheduler: Broadcasting large task binary with size 4.1 MiB\n",
      "22/12/23 01:53:36 WARN DAGScheduler: Broadcasting large task binary with size 4.1 MiB\n",
      "22/12/23 01:53:36 WARN DAGScheduler: Broadcasting large task binary with size 4.1 MiB\n",
      "22/12/23 01:53:36 WARN DAGScheduler: Broadcasting large task binary with size 4.1 MiB\n",
      "22/12/23 01:53:36 WARN DAGScheduler: Broadcasting large task binary with size 4.1 MiB\n",
      "22/12/23 01:53:37 WARN DAGScheduler: Broadcasting large task binary with size 4.1 MiB\n",
      "22/12/23 01:53:37 WARN DAGScheduler: Broadcasting large task binary with size 4.1 MiB\n",
      "22/12/23 01:53:37 WARN DAGScheduler: Broadcasting large task binary with size 4.1 MiB\n",
      "22/12/23 01:53:37 WARN DAGScheduler: Broadcasting large task binary with size 4.1 MiB\n",
      "22/12/23 01:53:37 WARN DAGScheduler: Broadcasting large task binary with size 4.1 MiB\n",
      "22/12/23 01:53:37 WARN DAGScheduler: Broadcasting large task binary with size 4.1 MiB\n",
      "22/12/23 01:53:37 WARN DAGScheduler: Broadcasting large task binary with size 4.1 MiB\n",
      "22/12/23 01:53:37 WARN DAGScheduler: Broadcasting large task binary with size 4.1 MiB\n",
      "22/12/23 01:53:37 WARN DAGScheduler: Broadcasting large task binary with size 4.1 MiB\n",
      "22/12/23 01:53:37 WARN DAGScheduler: Broadcasting large task binary with size 4.1 MiB\n",
      "22/12/23 01:53:37 WARN DAGScheduler: Broadcasting large task binary with size 4.1 MiB\n",
      "22/12/23 01:53:37 WARN DAGScheduler: Broadcasting large task binary with size 4.1 MiB\n",
      "22/12/23 01:53:37 WARN DAGScheduler: Broadcasting large task binary with size 4.1 MiB\n",
      "22/12/23 01:53:37 WARN DAGScheduler: Broadcasting large task binary with size 4.1 MiB\n",
      "22/12/23 01:53:38 WARN DAGScheduler: Broadcasting large task binary with size 4.1 MiB\n",
      "22/12/23 01:53:38 WARN DAGScheduler: Broadcasting large task binary with size 4.1 MiB\n",
      "22/12/23 01:53:38 WARN DAGScheduler: Broadcasting large task binary with size 4.1 MiB\n",
      "22/12/23 01:53:38 WARN DAGScheduler: Broadcasting large task binary with size 4.1 MiB\n",
      "22/12/23 01:53:38 WARN DAGScheduler: Broadcasting large task binary with size 4.1 MiB\n",
      "22/12/23 01:53:38 WARN DAGScheduler: Broadcasting large task binary with size 4.1 MiB\n",
      "22/12/23 01:53:38 WARN DAGScheduler: Broadcasting large task binary with size 4.1 MiB\n",
      "22/12/23 01:53:38 WARN DAGScheduler: Broadcasting large task binary with size 4.1 MiB\n",
      "22/12/23 01:53:38 WARN DAGScheduler: Broadcasting large task binary with size 4.1 MiB\n",
      "22/12/23 01:53:38 WARN DAGScheduler: Broadcasting large task binary with size 4.1 MiB\n",
      "22/12/23 01:53:38 WARN DAGScheduler: Broadcasting large task binary with size 4.1 MiB\n",
      "22/12/23 01:53:38 WARN DAGScheduler: Broadcasting large task binary with size 4.1 MiB\n",
      "22/12/23 01:53:38 WARN DAGScheduler: Broadcasting large task binary with size 4.1 MiB\n",
      "22/12/23 01:53:38 WARN DAGScheduler: Broadcasting large task binary with size 4.1 MiB\n",
      "22/12/23 01:53:39 WARN DAGScheduler: Broadcasting large task binary with size 4.1 MiB\n",
      "22/12/23 01:53:39 WARN DAGScheduler: Broadcasting large task binary with size 4.1 MiB\n",
      "22/12/23 01:53:39 WARN DAGScheduler: Broadcasting large task binary with size 4.1 MiB\n",
      "22/12/23 01:53:39 WARN DAGScheduler: Broadcasting large task binary with size 4.1 MiB\n",
      "22/12/23 01:53:39 WARN DAGScheduler: Broadcasting large task binary with size 4.1 MiB\n",
      "22/12/23 01:53:39 WARN DAGScheduler: Broadcasting large task binary with size 4.1 MiB\n",
      "22/12/23 01:53:39 WARN DAGScheduler: Broadcasting large task binary with size 4.1 MiB\n",
      "22/12/23 01:53:39 WARN DAGScheduler: Broadcasting large task binary with size 4.1 MiB\n",
      "22/12/23 01:53:39 WARN DAGScheduler: Broadcasting large task binary with size 4.1 MiB\n",
      "22/12/23 01:53:39 WARN DAGScheduler: Broadcasting large task binary with size 4.1 MiB\n",
      "22/12/23 01:53:39 WARN DAGScheduler: Broadcasting large task binary with size 4.1 MiB\n",
      "22/12/23 01:53:39 WARN DAGScheduler: Broadcasting large task binary with size 4.1 MiB\n",
      "22/12/23 01:53:39 WARN DAGScheduler: Broadcasting large task binary with size 4.1 MiB\n",
      "22/12/23 01:53:39 WARN DAGScheduler: Broadcasting large task binary with size 4.1 MiB\n",
      "22/12/23 01:53:40 WARN DAGScheduler: Broadcasting large task binary with size 4.1 MiB\n",
      "22/12/23 01:53:40 WARN DAGScheduler: Broadcasting large task binary with size 4.1 MiB\n",
      "22/12/23 01:53:40 WARN DAGScheduler: Broadcasting large task binary with size 4.1 MiB\n",
      "22/12/23 01:53:40 WARN DAGScheduler: Broadcasting large task binary with size 4.1 MiB\n",
      "22/12/23 01:53:40 WARN DAGScheduler: Broadcasting large task binary with size 4.1 MiB\n",
      "22/12/23 01:53:40 WARN DAGScheduler: Broadcasting large task binary with size 4.1 MiB\n",
      "22/12/23 01:53:40 WARN DAGScheduler: Broadcasting large task binary with size 4.1 MiB\n",
      "22/12/23 01:53:40 WARN DAGScheduler: Broadcasting large task binary with size 4.1 MiB\n",
      "22/12/23 01:53:40 WARN DAGScheduler: Broadcasting large task binary with size 4.1 MiB\n",
      "22/12/23 01:53:40 WARN DAGScheduler: Broadcasting large task binary with size 4.1 MiB\n",
      "22/12/23 01:53:40 WARN DAGScheduler: Broadcasting large task binary with size 4.1 MiB\n",
      "22/12/23 01:53:40 WARN DAGScheduler: Broadcasting large task binary with size 4.1 MiB\n",
      "22/12/23 01:53:40 WARN DAGScheduler: Broadcasting large task binary with size 4.1 MiB\n",
      "22/12/23 01:53:41 WARN DAGScheduler: Broadcasting large task binary with size 4.1 MiB\n",
      "22/12/23 01:53:41 WARN DAGScheduler: Broadcasting large task binary with size 4.1 MiB\n",
      "22/12/23 01:53:41 WARN DAGScheduler: Broadcasting large task binary with size 4.1 MiB\n",
      "22/12/23 01:53:41 WARN DAGScheduler: Broadcasting large task binary with size 4.1 MiB\n",
      "22/12/23 01:53:41 WARN DAGScheduler: Broadcasting large task binary with size 4.1 MiB\n",
      "22/12/23 01:53:41 WARN DAGScheduler: Broadcasting large task binary with size 4.1 MiB\n",
      "22/12/23 01:53:41 WARN DAGScheduler: Broadcasting large task binary with size 4.1 MiB\n",
      "22/12/23 01:53:41 WARN DAGScheduler: Broadcasting large task binary with size 4.1 MiB\n",
      "22/12/23 01:53:41 WARN DAGScheduler: Broadcasting large task binary with size 4.1 MiB\n",
      "22/12/23 01:53:41 WARN DAGScheduler: Broadcasting large task binary with size 5.5 MiB\n"
     ]
    },
    {
     "name": "stderr",
     "output_type": "stream",
     "text": [
      "                                                                                \r"
     ]
    },
    {
     "name": "stdout",
     "output_type": "stream",
     "text": [
      "Finished label threat with 262144 ROCAUG = 0.6732165742595362\n",
      "22/12/23 01:53:49 WARN DAGScheduler: Broadcasting large task binary with size 4.1 MiB\n"
     ]
    },
    {
     "name": "stderr",
     "output_type": "stream",
     "text": [
      "                                                                                \r"
     ]
    },
    {
     "name": "stdout",
     "output_type": "stream",
     "text": [
      "22/12/23 01:53:57 WARN DAGScheduler: Broadcasting large task binary with size 4.1 MiB\n"
     ]
    },
    {
     "name": "stderr",
     "output_type": "stream",
     "text": [
      "[Stage 2546:>                                                       (0 + 1) / 1]\r"
     ]
    },
    {
     "name": "stdout",
     "output_type": "stream",
     "text": [
      "22/12/23 01:54:04 WARN MemoryStore: Not enough space to cache rdd_3973_0 in memory! (computed 17.0 MiB so far)\n",
      "22/12/23 01:54:04 WARN BlockManager: Persisting block rdd_3973_0 to disk instead.\n"
     ]
    },
    {
     "name": "stderr",
     "output_type": "stream",
     "text": [
      "                                                                                \r"
     ]
    },
    {
     "name": "stdout",
     "output_type": "stream",
     "text": [
      "22/12/23 01:54:06 WARN DAGScheduler: Broadcasting large task binary with size 4.1 MiB\n",
      "22/12/23 01:54:06 WARN DAGScheduler: Broadcasting large task binary with size 4.1 MiB\n",
      "22/12/23 01:54:06 WARN DAGScheduler: Broadcasting large task binary with size 4.1 MiB\n",
      "22/12/23 01:54:06 WARN DAGScheduler: Broadcasting large task binary with size 4.1 MiB\n",
      "22/12/23 01:54:06 WARN DAGScheduler: Broadcasting large task binary with size 4.1 MiB\n",
      "22/12/23 01:54:06 WARN DAGScheduler: Broadcasting large task binary with size 4.1 MiB\n",
      "22/12/23 01:54:06 WARN DAGScheduler: Broadcasting large task binary with size 4.1 MiB\n",
      "22/12/23 01:54:06 WARN DAGScheduler: Broadcasting large task binary with size 4.1 MiB\n",
      "22/12/23 01:54:06 WARN DAGScheduler: Broadcasting large task binary with size 4.1 MiB\n",
      "22/12/23 01:54:06 WARN DAGScheduler: Broadcasting large task binary with size 4.1 MiB\n",
      "22/12/23 01:54:06 WARN DAGScheduler: Broadcasting large task binary with size 4.1 MiB\n",
      "22/12/23 01:54:06 WARN DAGScheduler: Broadcasting large task binary with size 4.1 MiB\n",
      "22/12/23 01:54:06 WARN DAGScheduler: Broadcasting large task binary with size 4.1 MiB\n",
      "22/12/23 01:54:07 WARN DAGScheduler: Broadcasting large task binary with size 4.1 MiB\n",
      "22/12/23 01:54:07 WARN DAGScheduler: Broadcasting large task binary with size 4.1 MiB\n",
      "22/12/23 01:54:07 WARN DAGScheduler: Broadcasting large task binary with size 4.1 MiB\n",
      "22/12/23 01:54:07 WARN DAGScheduler: Broadcasting large task binary with size 4.1 MiB\n",
      "22/12/23 01:54:07 WARN DAGScheduler: Broadcasting large task binary with size 4.1 MiB\n",
      "22/12/23 01:54:07 WARN DAGScheduler: Broadcasting large task binary with size 4.1 MiB\n",
      "22/12/23 01:54:07 WARN DAGScheduler: Broadcasting large task binary with size 4.1 MiB\n",
      "22/12/23 01:54:07 WARN DAGScheduler: Broadcasting large task binary with size 4.1 MiB\n",
      "22/12/23 01:54:07 WARN DAGScheduler: Broadcasting large task binary with size 4.1 MiB\n",
      "22/12/23 01:54:07 WARN DAGScheduler: Broadcasting large task binary with size 4.1 MiB\n",
      "22/12/23 01:54:07 WARN DAGScheduler: Broadcasting large task binary with size 4.1 MiB\n",
      "22/12/23 01:54:07 WARN DAGScheduler: Broadcasting large task binary with size 4.1 MiB\n",
      "22/12/23 01:54:07 WARN DAGScheduler: Broadcasting large task binary with size 4.1 MiB\n",
      "22/12/23 01:54:07 WARN DAGScheduler: Broadcasting large task binary with size 4.1 MiB\n",
      "22/12/23 01:54:08 WARN DAGScheduler: Broadcasting large task binary with size 4.1 MiB\n",
      "22/12/23 01:54:08 WARN DAGScheduler: Broadcasting large task binary with size 4.1 MiB\n",
      "22/12/23 01:54:08 WARN DAGScheduler: Broadcasting large task binary with size 4.1 MiB\n",
      "22/12/23 01:54:08 WARN DAGScheduler: Broadcasting large task binary with size 4.1 MiB\n",
      "22/12/23 01:54:08 WARN DAGScheduler: Broadcasting large task binary with size 4.1 MiB\n",
      "22/12/23 01:54:08 WARN DAGScheduler: Broadcasting large task binary with size 4.1 MiB\n",
      "22/12/23 01:54:08 WARN DAGScheduler: Broadcasting large task binary with size 4.1 MiB\n",
      "22/12/23 01:54:08 WARN DAGScheduler: Broadcasting large task binary with size 4.1 MiB\n",
      "22/12/23 01:54:08 WARN DAGScheduler: Broadcasting large task binary with size 4.1 MiB\n",
      "22/12/23 01:54:08 WARN DAGScheduler: Broadcasting large task binary with size 4.1 MiB\n",
      "22/12/23 01:54:08 WARN DAGScheduler: Broadcasting large task binary with size 4.1 MiB\n",
      "22/12/23 01:54:08 WARN DAGScheduler: Broadcasting large task binary with size 4.1 MiB\n",
      "22/12/23 01:54:08 WARN DAGScheduler: Broadcasting large task binary with size 4.1 MiB\n",
      "22/12/23 01:54:09 WARN DAGScheduler: Broadcasting large task binary with size 4.1 MiB\n",
      "22/12/23 01:54:09 WARN DAGScheduler: Broadcasting large task binary with size 4.1 MiB\n",
      "22/12/23 01:54:09 WARN DAGScheduler: Broadcasting large task binary with size 4.1 MiB\n",
      "22/12/23 01:54:09 WARN DAGScheduler: Broadcasting large task binary with size 4.1 MiB\n",
      "22/12/23 01:54:09 WARN DAGScheduler: Broadcasting large task binary with size 4.1 MiB\n",
      "22/12/23 01:54:09 WARN DAGScheduler: Broadcasting large task binary with size 4.1 MiB\n",
      "22/12/23 01:54:09 WARN DAGScheduler: Broadcasting large task binary with size 4.1 MiB\n",
      "22/12/23 01:54:09 WARN DAGScheduler: Broadcasting large task binary with size 4.1 MiB\n",
      "22/12/23 01:54:09 WARN DAGScheduler: Broadcasting large task binary with size 4.1 MiB\n",
      "22/12/23 01:54:09 WARN DAGScheduler: Broadcasting large task binary with size 4.1 MiB\n",
      "22/12/23 01:54:09 WARN DAGScheduler: Broadcasting large task binary with size 4.1 MiB\n",
      "22/12/23 01:54:09 WARN DAGScheduler: Broadcasting large task binary with size 4.1 MiB\n",
      "22/12/23 01:54:09 WARN DAGScheduler: Broadcasting large task binary with size 4.1 MiB\n",
      "22/12/23 01:54:09 WARN DAGScheduler: Broadcasting large task binary with size 4.1 MiB\n",
      "22/12/23 01:54:10 WARN DAGScheduler: Broadcasting large task binary with size 4.1 MiB\n",
      "22/12/23 01:54:10 WARN DAGScheduler: Broadcasting large task binary with size 4.1 MiB\n",
      "22/12/23 01:54:10 WARN DAGScheduler: Broadcasting large task binary with size 4.1 MiB\n",
      "22/12/23 01:54:10 WARN DAGScheduler: Broadcasting large task binary with size 4.1 MiB\n",
      "22/12/23 01:54:10 WARN DAGScheduler: Broadcasting large task binary with size 4.1 MiB\n",
      "22/12/23 01:54:10 WARN DAGScheduler: Broadcasting large task binary with size 4.1 MiB\n",
      "22/12/23 01:54:10 WARN DAGScheduler: Broadcasting large task binary with size 4.1 MiB\n",
      "22/12/23 01:54:10 WARN DAGScheduler: Broadcasting large task binary with size 4.1 MiB\n",
      "22/12/23 01:54:10 WARN DAGScheduler: Broadcasting large task binary with size 4.1 MiB\n",
      "22/12/23 01:54:10 WARN DAGScheduler: Broadcasting large task binary with size 4.1 MiB\n",
      "22/12/23 01:54:10 WARN DAGScheduler: Broadcasting large task binary with size 4.1 MiB\n",
      "22/12/23 01:54:10 WARN DAGScheduler: Broadcasting large task binary with size 4.1 MiB\n",
      "22/12/23 01:54:10 WARN DAGScheduler: Broadcasting large task binary with size 4.1 MiB\n",
      "22/12/23 01:54:10 WARN DAGScheduler: Broadcasting large task binary with size 4.1 MiB\n",
      "22/12/23 01:54:11 WARN DAGScheduler: Broadcasting large task binary with size 4.1 MiB\n",
      "22/12/23 01:54:11 WARN DAGScheduler: Broadcasting large task binary with size 4.1 MiB\n",
      "22/12/23 01:54:11 WARN DAGScheduler: Broadcasting large task binary with size 4.1 MiB\n",
      "22/12/23 01:54:11 WARN DAGScheduler: Broadcasting large task binary with size 4.1 MiB\n",
      "22/12/23 01:54:11 WARN DAGScheduler: Broadcasting large task binary with size 4.1 MiB\n",
      "22/12/23 01:54:11 WARN DAGScheduler: Broadcasting large task binary with size 4.1 MiB\n",
      "22/12/23 01:54:11 WARN DAGScheduler: Broadcasting large task binary with size 4.1 MiB\n",
      "22/12/23 01:54:11 WARN DAGScheduler: Broadcasting large task binary with size 4.1 MiB\n",
      "22/12/23 01:54:11 WARN DAGScheduler: Broadcasting large task binary with size 4.1 MiB\n",
      "22/12/23 01:54:11 WARN DAGScheduler: Broadcasting large task binary with size 4.1 MiB\n",
      "22/12/23 01:54:11 WARN DAGScheduler: Broadcasting large task binary with size 4.1 MiB\n",
      "22/12/23 01:54:11 WARN DAGScheduler: Broadcasting large task binary with size 4.1 MiB\n",
      "22/12/23 01:54:11 WARN DAGScheduler: Broadcasting large task binary with size 4.1 MiB\n",
      "22/12/23 01:54:12 WARN DAGScheduler: Broadcasting large task binary with size 4.1 MiB\n",
      "22/12/23 01:54:12 WARN DAGScheduler: Broadcasting large task binary with size 4.1 MiB\n",
      "22/12/23 01:54:12 WARN DAGScheduler: Broadcasting large task binary with size 4.1 MiB\n",
      "22/12/23 01:54:12 WARN DAGScheduler: Broadcasting large task binary with size 4.1 MiB\n",
      "22/12/23 01:54:12 WARN DAGScheduler: Broadcasting large task binary with size 4.1 MiB\n",
      "22/12/23 01:54:12 WARN DAGScheduler: Broadcasting large task binary with size 4.1 MiB\n",
      "22/12/23 01:54:12 WARN DAGScheduler: Broadcasting large task binary with size 4.1 MiB\n",
      "22/12/23 01:54:12 WARN DAGScheduler: Broadcasting large task binary with size 4.1 MiB\n",
      "22/12/23 01:54:12 WARN DAGScheduler: Broadcasting large task binary with size 4.1 MiB\n",
      "22/12/23 01:54:12 WARN DAGScheduler: Broadcasting large task binary with size 4.1 MiB\n",
      "22/12/23 01:54:12 WARN DAGScheduler: Broadcasting large task binary with size 4.1 MiB\n",
      "22/12/23 01:54:12 WARN DAGScheduler: Broadcasting large task binary with size 4.1 MiB\n",
      "22/12/23 01:54:12 WARN DAGScheduler: Broadcasting large task binary with size 4.1 MiB\n",
      "22/12/23 01:54:12 WARN DAGScheduler: Broadcasting large task binary with size 4.1 MiB\n",
      "22/12/23 01:54:13 WARN DAGScheduler: Broadcasting large task binary with size 4.1 MiB\n",
      "22/12/23 01:54:13 WARN DAGScheduler: Broadcasting large task binary with size 4.1 MiB\n",
      "22/12/23 01:54:13 WARN DAGScheduler: Broadcasting large task binary with size 4.1 MiB\n",
      "22/12/23 01:54:13 WARN DAGScheduler: Broadcasting large task binary with size 4.1 MiB\n",
      "22/12/23 01:54:13 WARN DAGScheduler: Broadcasting large task binary with size 4.1 MiB\n",
      "22/12/23 01:54:13 WARN DAGScheduler: Broadcasting large task binary with size 4.1 MiB\n",
      "22/12/23 01:54:13 WARN DAGScheduler: Broadcasting large task binary with size 4.1 MiB\n",
      "22/12/23 01:54:13 WARN DAGScheduler: Broadcasting large task binary with size 4.1 MiB\n",
      "22/12/23 01:54:13 WARN DAGScheduler: Broadcasting large task binary with size 5.5 MiB\n"
     ]
    },
    {
     "name": "stderr",
     "output_type": "stream",
     "text": [
      "                                                                                \r"
     ]
    },
    {
     "name": "stdout",
     "output_type": "stream",
     "text": [
      "Finished label insult with 262144 ROCAUG = 0.7201804620385028\n",
      "22/12/23 01:54:21 WARN DAGScheduler: Broadcasting large task binary with size 4.1 MiB\n"
     ]
    },
    {
     "name": "stderr",
     "output_type": "stream",
     "text": [
      "                                                                                \r"
     ]
    },
    {
     "name": "stdout",
     "output_type": "stream",
     "text": [
      "22/12/23 01:54:29 WARN DAGScheduler: Broadcasting large task binary with size 4.1 MiB\n"
     ]
    },
    {
     "name": "stderr",
     "output_type": "stream",
     "text": [
      "[Stage 2660:>                                                       (0 + 1) / 1]\r"
     ]
    },
    {
     "name": "stdout",
     "output_type": "stream",
     "text": [
      "22/12/23 01:54:36 WARN MemoryStore: Not enough space to cache rdd_4135_0 in memory! (computed 17.0 MiB so far)\n",
      "22/12/23 01:54:36 WARN BlockManager: Persisting block rdd_4135_0 to disk instead.\n"
     ]
    },
    {
     "name": "stderr",
     "output_type": "stream",
     "text": [
      "                                                                                \r"
     ]
    },
    {
     "name": "stdout",
     "output_type": "stream",
     "text": [
      "22/12/23 01:54:37 WARN DAGScheduler: Broadcasting large task binary with size 4.1 MiB\n",
      "22/12/23 01:54:37 WARN DAGScheduler: Broadcasting large task binary with size 4.1 MiB\n",
      "22/12/23 01:54:37 WARN DAGScheduler: Broadcasting large task binary with size 4.1 MiB\n",
      "22/12/23 01:54:38 WARN DAGScheduler: Broadcasting large task binary with size 4.1 MiB\n",
      "22/12/23 01:54:38 WARN DAGScheduler: Broadcasting large task binary with size 4.1 MiB\n",
      "22/12/23 01:54:38 WARN DAGScheduler: Broadcasting large task binary with size 4.1 MiB\n",
      "22/12/23 01:54:38 WARN DAGScheduler: Broadcasting large task binary with size 4.1 MiB\n",
      "22/12/23 01:54:38 WARN DAGScheduler: Broadcasting large task binary with size 4.1 MiB\n",
      "22/12/23 01:54:38 WARN DAGScheduler: Broadcasting large task binary with size 4.1 MiB\n",
      "22/12/23 01:54:38 WARN DAGScheduler: Broadcasting large task binary with size 4.1 MiB\n",
      "22/12/23 01:54:38 WARN DAGScheduler: Broadcasting large task binary with size 4.1 MiB\n",
      "22/12/23 01:54:38 WARN DAGScheduler: Broadcasting large task binary with size 4.1 MiB\n",
      "22/12/23 01:54:38 WARN DAGScheduler: Broadcasting large task binary with size 4.1 MiB\n",
      "22/12/23 01:54:38 WARN DAGScheduler: Broadcasting large task binary with size 4.1 MiB\n",
      "22/12/23 01:54:38 WARN DAGScheduler: Broadcasting large task binary with size 4.1 MiB\n",
      "22/12/23 01:54:38 WARN DAGScheduler: Broadcasting large task binary with size 4.1 MiB\n",
      "22/12/23 01:54:39 WARN DAGScheduler: Broadcasting large task binary with size 4.1 MiB\n",
      "22/12/23 01:54:39 WARN DAGScheduler: Broadcasting large task binary with size 4.1 MiB\n",
      "22/12/23 01:54:39 WARN DAGScheduler: Broadcasting large task binary with size 4.1 MiB\n",
      "22/12/23 01:54:39 WARN DAGScheduler: Broadcasting large task binary with size 4.1 MiB\n",
      "22/12/23 01:54:39 WARN DAGScheduler: Broadcasting large task binary with size 4.1 MiB\n",
      "22/12/23 01:54:39 WARN DAGScheduler: Broadcasting large task binary with size 4.1 MiB\n",
      "22/12/23 01:54:39 WARN DAGScheduler: Broadcasting large task binary with size 4.1 MiB\n",
      "22/12/23 01:54:39 WARN DAGScheduler: Broadcasting large task binary with size 4.1 MiB\n",
      "22/12/23 01:54:39 WARN DAGScheduler: Broadcasting large task binary with size 4.1 MiB\n",
      "22/12/23 01:54:39 WARN DAGScheduler: Broadcasting large task binary with size 4.1 MiB\n",
      "22/12/23 01:54:39 WARN DAGScheduler: Broadcasting large task binary with size 4.1 MiB\n",
      "22/12/23 01:54:39 WARN DAGScheduler: Broadcasting large task binary with size 4.1 MiB\n",
      "22/12/23 01:54:39 WARN DAGScheduler: Broadcasting large task binary with size 4.1 MiB\n",
      "22/12/23 01:54:39 WARN DAGScheduler: Broadcasting large task binary with size 4.1 MiB\n",
      "22/12/23 01:54:39 WARN DAGScheduler: Broadcasting large task binary with size 4.1 MiB\n",
      "22/12/23 01:54:40 WARN DAGScheduler: Broadcasting large task binary with size 4.1 MiB\n",
      "22/12/23 01:54:40 WARN DAGScheduler: Broadcasting large task binary with size 4.1 MiB\n",
      "22/12/23 01:54:40 WARN DAGScheduler: Broadcasting large task binary with size 4.1 MiB\n",
      "22/12/23 01:54:40 WARN DAGScheduler: Broadcasting large task binary with size 4.1 MiB\n",
      "22/12/23 01:54:40 WARN DAGScheduler: Broadcasting large task binary with size 4.1 MiB\n",
      "22/12/23 01:54:40 WARN DAGScheduler: Broadcasting large task binary with size 4.1 MiB\n",
      "22/12/23 01:54:40 WARN DAGScheduler: Broadcasting large task binary with size 4.1 MiB\n",
      "22/12/23 01:54:40 WARN DAGScheduler: Broadcasting large task binary with size 4.1 MiB\n",
      "22/12/23 01:54:40 WARN DAGScheduler: Broadcasting large task binary with size 4.1 MiB\n",
      "22/12/23 01:54:40 WARN DAGScheduler: Broadcasting large task binary with size 4.1 MiB\n",
      "22/12/23 01:54:40 WARN DAGScheduler: Broadcasting large task binary with size 4.1 MiB\n",
      "22/12/23 01:54:40 WARN DAGScheduler: Broadcasting large task binary with size 4.1 MiB\n",
      "22/12/23 01:54:40 WARN DAGScheduler: Broadcasting large task binary with size 4.1 MiB\n",
      "22/12/23 01:54:40 WARN DAGScheduler: Broadcasting large task binary with size 4.1 MiB\n",
      "22/12/23 01:54:41 WARN DAGScheduler: Broadcasting large task binary with size 4.1 MiB\n",
      "22/12/23 01:54:41 WARN DAGScheduler: Broadcasting large task binary with size 4.1 MiB\n",
      "22/12/23 01:54:41 WARN DAGScheduler: Broadcasting large task binary with size 4.1 MiB\n",
      "22/12/23 01:54:41 WARN DAGScheduler: Broadcasting large task binary with size 4.1 MiB\n",
      "22/12/23 01:54:41 WARN DAGScheduler: Broadcasting large task binary with size 4.1 MiB\n",
      "22/12/23 01:54:41 WARN DAGScheduler: Broadcasting large task binary with size 4.1 MiB\n",
      "22/12/23 01:54:41 WARN DAGScheduler: Broadcasting large task binary with size 4.1 MiB\n",
      "22/12/23 01:54:41 WARN DAGScheduler: Broadcasting large task binary with size 4.1 MiB\n",
      "22/12/23 01:54:41 WARN DAGScheduler: Broadcasting large task binary with size 4.1 MiB\n",
      "22/12/23 01:54:41 WARN DAGScheduler: Broadcasting large task binary with size 4.1 MiB\n",
      "22/12/23 01:54:41 WARN DAGScheduler: Broadcasting large task binary with size 4.1 MiB\n",
      "22/12/23 01:54:41 WARN DAGScheduler: Broadcasting large task binary with size 4.1 MiB\n",
      "22/12/23 01:54:41 WARN DAGScheduler: Broadcasting large task binary with size 4.1 MiB\n",
      "22/12/23 01:54:41 WARN DAGScheduler: Broadcasting large task binary with size 4.1 MiB\n",
      "22/12/23 01:54:42 WARN DAGScheduler: Broadcasting large task binary with size 4.1 MiB\n",
      "22/12/23 01:54:42 WARN DAGScheduler: Broadcasting large task binary with size 4.1 MiB\n",
      "22/12/23 01:54:42 WARN DAGScheduler: Broadcasting large task binary with size 4.1 MiB\n",
      "22/12/23 01:54:42 WARN DAGScheduler: Broadcasting large task binary with size 4.1 MiB\n",
      "22/12/23 01:54:42 WARN DAGScheduler: Broadcasting large task binary with size 4.1 MiB\n",
      "22/12/23 01:54:42 WARN DAGScheduler: Broadcasting large task binary with size 4.1 MiB\n",
      "22/12/23 01:54:42 WARN DAGScheduler: Broadcasting large task binary with size 4.1 MiB\n",
      "22/12/23 01:54:42 WARN DAGScheduler: Broadcasting large task binary with size 4.1 MiB\n",
      "22/12/23 01:54:42 WARN DAGScheduler: Broadcasting large task binary with size 4.1 MiB\n",
      "22/12/23 01:54:42 WARN DAGScheduler: Broadcasting large task binary with size 4.1 MiB\n",
      "22/12/23 01:54:42 WARN DAGScheduler: Broadcasting large task binary with size 4.1 MiB\n",
      "22/12/23 01:54:42 WARN DAGScheduler: Broadcasting large task binary with size 4.1 MiB\n",
      "22/12/23 01:54:42 WARN DAGScheduler: Broadcasting large task binary with size 4.1 MiB\n",
      "22/12/23 01:54:42 WARN DAGScheduler: Broadcasting large task binary with size 4.1 MiB\n",
      "22/12/23 01:54:43 WARN DAGScheduler: Broadcasting large task binary with size 4.1 MiB\n",
      "22/12/23 01:54:43 WARN DAGScheduler: Broadcasting large task binary with size 4.1 MiB\n",
      "22/12/23 01:54:43 WARN DAGScheduler: Broadcasting large task binary with size 4.1 MiB\n",
      "22/12/23 01:54:43 WARN DAGScheduler: Broadcasting large task binary with size 4.1 MiB\n",
      "22/12/23 01:54:43 WARN DAGScheduler: Broadcasting large task binary with size 4.1 MiB\n",
      "22/12/23 01:54:43 WARN DAGScheduler: Broadcasting large task binary with size 4.1 MiB\n",
      "22/12/23 01:54:43 WARN DAGScheduler: Broadcasting large task binary with size 4.1 MiB\n",
      "22/12/23 01:54:43 WARN DAGScheduler: Broadcasting large task binary with size 4.1 MiB\n",
      "22/12/23 01:54:43 WARN DAGScheduler: Broadcasting large task binary with size 4.1 MiB\n",
      "22/12/23 01:54:43 WARN DAGScheduler: Broadcasting large task binary with size 4.1 MiB\n",
      "22/12/23 01:54:43 WARN DAGScheduler: Broadcasting large task binary with size 4.1 MiB\n",
      "22/12/23 01:54:43 WARN DAGScheduler: Broadcasting large task binary with size 4.1 MiB\n",
      "22/12/23 01:54:43 WARN DAGScheduler: Broadcasting large task binary with size 4.1 MiB\n",
      "22/12/23 01:54:44 WARN DAGScheduler: Broadcasting large task binary with size 4.1 MiB\n",
      "22/12/23 01:54:44 WARN DAGScheduler: Broadcasting large task binary with size 4.1 MiB\n",
      "22/12/23 01:54:44 WARN DAGScheduler: Broadcasting large task binary with size 4.1 MiB\n",
      "22/12/23 01:54:44 WARN DAGScheduler: Broadcasting large task binary with size 4.1 MiB\n",
      "22/12/23 01:54:44 WARN DAGScheduler: Broadcasting large task binary with size 4.1 MiB\n",
      "22/12/23 01:54:44 WARN DAGScheduler: Broadcasting large task binary with size 4.1 MiB\n",
      "22/12/23 01:54:44 WARN DAGScheduler: Broadcasting large task binary with size 4.1 MiB\n",
      "22/12/23 01:54:44 WARN DAGScheduler: Broadcasting large task binary with size 4.1 MiB\n",
      "22/12/23 01:54:44 WARN DAGScheduler: Broadcasting large task binary with size 4.1 MiB\n",
      "22/12/23 01:54:44 WARN DAGScheduler: Broadcasting large task binary with size 4.1 MiB\n",
      "22/12/23 01:54:44 WARN DAGScheduler: Broadcasting large task binary with size 4.1 MiB\n",
      "22/12/23 01:54:44 WARN DAGScheduler: Broadcasting large task binary with size 4.1 MiB\n",
      "22/12/23 01:54:44 WARN DAGScheduler: Broadcasting large task binary with size 4.1 MiB\n",
      "22/12/23 01:54:44 WARN DAGScheduler: Broadcasting large task binary with size 4.1 MiB\n",
      "22/12/23 01:54:45 WARN DAGScheduler: Broadcasting large task binary with size 4.1 MiB\n",
      "22/12/23 01:54:45 WARN DAGScheduler: Broadcasting large task binary with size 4.1 MiB\n",
      "22/12/23 01:54:45 WARN DAGScheduler: Broadcasting large task binary with size 4.1 MiB\n",
      "22/12/23 01:54:45 WARN DAGScheduler: Broadcasting large task binary with size 4.1 MiB\n",
      "22/12/23 01:54:45 WARN DAGScheduler: Broadcasting large task binary with size 4.1 MiB\n",
      "22/12/23 01:54:45 WARN DAGScheduler: Broadcasting large task binary with size 4.1 MiB\n",
      "22/12/23 01:54:45 WARN DAGScheduler: Broadcasting large task binary with size 4.1 MiB\n",
      "22/12/23 01:54:45 WARN DAGScheduler: Broadcasting large task binary with size 4.1 MiB\n",
      "22/12/23 01:54:45 WARN DAGScheduler: Broadcasting large task binary with size 5.5 MiB\n"
     ]
    },
    {
     "name": "stderr",
     "output_type": "stream",
     "text": [
      "[Stage 2769:>                                                       (0 + 1) / 1]\r"
     ]
    },
    {
     "name": "stdout",
     "output_type": "stream",
     "text": [
      "Finished label identity_hate with 262144 ROCAUG = 0.5902091881096649\n"
     ]
    },
    {
     "name": "stderr",
     "output_type": "stream",
     "text": [
      "                                                                                \r"
     ]
    }
   ],
   "source": [
    "tfidf_metrics = get_metrics(labels, df_train, df_eval, TF_num_features, tfidf)"
   ]
  },
  {
   "cell_type": "code",
   "execution_count": 11,
   "metadata": {},
   "outputs": [
    {
     "data": {
      "image/png": "[encoded data removed]",
      "text/plain": [
       "<Figure size 640x480 with 1 Axes>"
      ]
     },
     "metadata": {},
     "output_type": "display_data"
    }
   ],
   "source": [
    "plot_part1_tfidf(tfidf_metrics, TF_num_features)"
   ]
  },
  {
   "cell_type": "markdown",
   "metadata": {},
   "source": [
    "### Part 2 Word2Vec"
   ]
  },
  {
   "cell_type": "code",
   "execution_count": 12,
   "metadata": {},
   "outputs": [
    {
     "name": "stderr",
     "output_type": "stream",
     "text": [
      "                                                                                \r"
     ]
    },
    {
     "name": "stdout",
     "output_type": "stream",
     "text": [
      "Finished label toxic with 10 ROCAUG = 0.7446689635634601\n"
     ]
    },
    {
     "name": "stderr",
     "output_type": "stream",
     "text": [
      "                                                                                \r"
     ]
    },
    {
     "name": "stdout",
     "output_type": "stream",
     "text": [
      "Finished label severe_toxic with 10 ROCAUG = 0.5714342392685173\n"
     ]
    },
    {
     "name": "stderr",
     "output_type": "stream",
     "text": [
      "                                                                                \r"
     ]
    },
    {
     "name": "stdout",
     "output_type": "stream",
     "text": [
      "Finished label obscene with 10 ROCAUG = 0.744769248765926\n"
     ]
    },
    {
     "name": "stderr",
     "output_type": "stream",
     "text": [
      "                                                                                \r"
     ]
    },
    {
     "name": "stdout",
     "output_type": "stream",
     "text": [
      "Finished label threat with 10 ROCAUG = 0.5053090834068856\n"
     ]
    },
    {
     "name": "stderr",
     "output_type": "stream",
     "text": [
      "                                                                                \r"
     ]
    },
    {
     "name": "stdout",
     "output_type": "stream",
     "text": [
      "Finished label insult with 10 ROCAUG = 0.6798508898056026\n"
     ]
    },
    {
     "name": "stderr",
     "output_type": "stream",
     "text": [
      "                                                                                \r"
     ]
    },
    {
     "name": "stdout",
     "output_type": "stream",
     "text": [
      "Finished label identity_hate with 10 ROCAUG = 0.5265293420373338\n"
     ]
    },
    {
     "name": "stderr",
     "output_type": "stream",
     "text": [
      "                                                                                \r"
     ]
    },
    {
     "name": "stdout",
     "output_type": "stream",
     "text": [
      "Finished label toxic with 20 ROCAUG = 0.7536582512942859\n"
     ]
    },
    {
     "name": "stderr",
     "output_type": "stream",
     "text": [
      "                                                                                \r"
     ]
    },
    {
     "name": "stdout",
     "output_type": "stream",
     "text": [
      "Finished label severe_toxic with 20 ROCAUG = 0.5863994894148183\n"
     ]
    },
    {
     "name": "stderr",
     "output_type": "stream",
     "text": [
      "                                                                                \r"
     ]
    },
    {
     "name": "stdout",
     "output_type": "stream",
     "text": [
      "Finished label obscene with 20 ROCAUG = 0.7612698339053106\n"
     ]
    },
    {
     "name": "stderr",
     "output_type": "stream",
     "text": [
      "                                                                                \r"
     ]
    },
    {
     "name": "stdout",
     "output_type": "stream",
     "text": [
      "Finished label threat with 20 ROCAUG = 0.5106967288149025\n"
     ]
    },
    {
     "name": "stderr",
     "output_type": "stream",
     "text": [
      "                                                                                \r"
     ]
    },
    {
     "name": "stdout",
     "output_type": "stream",
     "text": [
      "Finished label insult with 20 ROCAUG = 0.689890205076956\n"
     ]
    },
    {
     "name": "stderr",
     "output_type": "stream",
     "text": [
      "                                                                                \r"
     ]
    },
    {
     "name": "stdout",
     "output_type": "stream",
     "text": [
      "Finished label identity_hate with 20 ROCAUG = 0.5348711594503165\n"
     ]
    },
    {
     "name": "stderr",
     "output_type": "stream",
     "text": [
      "                                                                                \r"
     ]
    },
    {
     "name": "stdout",
     "output_type": "stream",
     "text": [
      "Finished label toxic with 30 ROCAUG = 0.7573927348167981\n"
     ]
    },
    {
     "name": "stderr",
     "output_type": "stream",
     "text": [
      "                                                                                \r"
     ]
    },
    {
     "name": "stdout",
     "output_type": "stream",
     "text": [
      "Finished label severe_toxic with 30 ROCAUG = 0.589554023833921\n"
     ]
    },
    {
     "name": "stderr",
     "output_type": "stream",
     "text": [
      "                                                                                \r"
     ]
    },
    {
     "name": "stdout",
     "output_type": "stream",
     "text": [
      "Finished label obscene with 30 ROCAUG = 0.7666760381103183\n"
     ]
    },
    {
     "name": "stderr",
     "output_type": "stream",
     "text": [
      "                                                                                \r"
     ]
    },
    {
     "name": "stdout",
     "output_type": "stream",
     "text": [
      "Finished label threat with 30 ROCAUG = 0.5324987088505901\n"
     ]
    },
    {
     "name": "stderr",
     "output_type": "stream",
     "text": [
      "                                                                                \r"
     ]
    },
    {
     "name": "stdout",
     "output_type": "stream",
     "text": [
      "Finished label insult with 30 ROCAUG = 0.6912810517339475\n"
     ]
    },
    {
     "name": "stderr",
     "output_type": "stream",
     "text": [
      "                                                                                \r"
     ]
    },
    {
     "name": "stdout",
     "output_type": "stream",
     "text": [
      "Finished label identity_hate with 30 ROCAUG = 0.5364224935806864\n"
     ]
    },
    {
     "name": "stderr",
     "output_type": "stream",
     "text": [
      "                                                                                \r"
     ]
    },
    {
     "name": "stdout",
     "output_type": "stream",
     "text": [
      "Finished label toxic with 40 ROCAUG = 0.7594102454025797\n"
     ]
    },
    {
     "name": "stderr",
     "output_type": "stream",
     "text": [
      "                                                                                \r"
     ]
    },
    {
     "name": "stdout",
     "output_type": "stream",
     "text": [
      "Finished label severe_toxic with 40 ROCAUG = 0.5910600479303065\n"
     ]
    },
    {
     "name": "stderr",
     "output_type": "stream",
     "text": [
      "                                                                                \r"
     ]
    },
    {
     "name": "stdout",
     "output_type": "stream",
     "text": [
      "Finished label obscene with 40 ROCAUG = 0.7684670828864375\n"
     ]
    },
    {
     "name": "stderr",
     "output_type": "stream",
     "text": [
      "                                                                                \r"
     ]
    },
    {
     "name": "stdout",
     "output_type": "stream",
     "text": [
      "Finished label threat with 40 ROCAUG = 0.5542221268851465\n"
     ]
    },
    {
     "name": "stderr",
     "output_type": "stream",
     "text": [
      "                                                                                \r"
     ]
    },
    {
     "name": "stdout",
     "output_type": "stream",
     "text": [
      "Finished label insult with 40 ROCAUG = 0.6918199470192085\n"
     ]
    },
    {
     "name": "stderr",
     "output_type": "stream",
     "text": [
      "                                                                                \r"
     ]
    },
    {
     "name": "stdout",
     "output_type": "stream",
     "text": [
      "Finished label identity_hate with 40 ROCAUG = 0.5481990895782952\n"
     ]
    },
    {
     "name": "stderr",
     "output_type": "stream",
     "text": [
      "                                                                                \r"
     ]
    },
    {
     "name": "stdout",
     "output_type": "stream",
     "text": [
      "Finished label toxic with 50 ROCAUG = 0.7624509822364391\n"
     ]
    },
    {
     "name": "stderr",
     "output_type": "stream",
     "text": [
      "                                                                                \r"
     ]
    },
    {
     "name": "stdout",
     "output_type": "stream",
     "text": [
      "Finished label severe_toxic with 50 ROCAUG = 0.600080360705694\n"
     ]
    },
    {
     "name": "stderr",
     "output_type": "stream",
     "text": [
      "                                                                                \r"
     ]
    },
    {
     "name": "stdout",
     "output_type": "stream",
     "text": [
      "Finished label obscene with 50 ROCAUG = 0.7738732870914451\n"
     ]
    },
    {
     "name": "stderr",
     "output_type": "stream",
     "text": [
      "                                                                                \r"
     ]
    },
    {
     "name": "stdout",
     "output_type": "stream",
     "text": [
      "Finished label threat with 50 ROCAUG = 0.5488030566766771\n"
     ]
    },
    {
     "name": "stderr",
     "output_type": "stream",
     "text": [
      "                                                                                \r"
     ]
    },
    {
     "name": "stdout",
     "output_type": "stream",
     "text": [
      "Finished label insult with 50 ROCAUG = 0.6987305718603265\n"
     ]
    },
    {
     "name": "stderr",
     "output_type": "stream",
     "text": [
      "[Stage 4129:>                                                       (0 + 1) / 1]\r"
     ]
    },
    {
     "name": "stdout",
     "output_type": "stream",
     "text": [
      "Finished label identity_hate with 50 ROCAUG = 0.5515547942762818\n"
     ]
    },
    {
     "name": "stderr",
     "output_type": "stream",
     "text": [
      "                                                                                \r"
     ]
    }
   ],
   "source": [
    "w2v_metrics = get_metrics(labels, df_train, df_eval, W2V_num_features, w2v) # type: ignore"
   ]
  },
  {
   "cell_type": "code",
   "execution_count": 14,
   "metadata": {},
   "outputs": [
    {
     "data": {
      "image/png": "[encoded data removed]",
      "text/plain": [
       "<Figure size 640x480 with 1 Axes>"
      ]
     },
     "metadata": {},
     "output_type": "display_data"
    }
   ],
   "source": [
    "plot_part2_w2v(w2v_metrics, W2V_num_features)"
   ]
  },
  {
   "cell_type": "markdown",
   "metadata": {},
   "source": [
    "### Comparison"
   ]
  },
  {
   "cell_type": "code",
   "execution_count": 38,
   "metadata": {},
   "outputs": [],
   "source": [
    "def plot_comparison(w2v_data: dict, tfidf_data: dict, size_generator=W2V_num_features):\n",
    "    vector_size = [i for i in size_generator()]\n",
    "    for label in w2v_data.keys():\n",
    "        plt.plot(vector_size, w2v_data[label])\n",
    "        plt.plot(vector_size, tfidf_data[label])\n",
    "        plt.legend([label+\"_w2v\", label+\"_tfidf\"])\n",
    "        plt.xlabel('Vector size')\n",
    "        plt.ylabel('ROC AUG')\n",
    "        plt.xscale(\"log\")\n",
    "        plt.xticks(vector_size,vector_size)\n",
    "        plt.show()\n",
    "        \n",
    "def plot_comparison_1(w2v_data: dict, tfidf_data: dict, \n",
    "                      w2v_size_generator = W2V_num_features, \n",
    "                      tfidf_size_generator = TF_num_features):\n",
    "    w2v_vector_size = [i for i in w2v_size_generator()]\n",
    "    tfidf_vector_size = [i for i in tfidf_size_generator()]\n",
    "    for label in w2v_data.keys():\n",
    "        fig, ax1 = plt.subplots()\n",
    "    \n",
    "        ax1.plot(tfidf_vector_size, tfidf_data[label], 'b-', label=label+\"_tfidf\")\n",
    "        ax1.set_xlabel('tfidf Vector size', color='b')\n",
    "        ax1.set_xscale(\"log\")\n",
    "        ax1.set_xticks(tfidf_vector_size,tfidf_vector_size)\n",
    "        ax1.tick_params(\"x\", colors=\"r\")\n",
    "        # Make the y-axis label, ticks and tick labels match the line color.\n",
    "        ax1.set_ylabel('ROC AUG')\n",
    "        ax1.tick_params('x', colors='b')\n",
    "        \n",
    "        ax2 = ax1.twiny()\n",
    "        ax2.plot(w2v_vector_size, w2v_data[label], 'r-', label=label+\"_w2v\")\n",
    "        ax2.set_xlabel('w2v Vector size', color='r')\n",
    "        ax2.tick_params('x', colors='r')\n",
    "        fig.legend(loc=\"right\")\n",
    "\n",
    "        # fig.tight_layout()\n",
    "        plt.show()"
   ]
  },
  {
   "cell_type": "code",
   "execution_count": 19,
   "metadata": {},
   "outputs": [
    {
     "name": "stderr",
     "output_type": "stream",
     "text": [
      "                                                                                \r"
     ]
    },
    {
     "name": "stdout",
     "output_type": "stream",
     "text": [
      "Finished label toxic with 10 ROCAUG = 0.5041564435479726\n"
     ]
    },
    {
     "name": "stderr",
     "output_type": "stream",
     "text": [
      "                                                                                \r"
     ]
    },
    {
     "name": "stdout",
     "output_type": "stream",
     "text": [
      "Finished label severe_toxic with 10 ROCAUG = 0.5105105050688474\n"
     ]
    },
    {
     "name": "stderr",
     "output_type": "stream",
     "text": [
      "                                                                                \r"
     ]
    },
    {
     "name": "stdout",
     "output_type": "stream",
     "text": [
      "Finished label obscene with 10 ROCAUG = 0.5037317825700033\n"
     ]
    },
    {
     "name": "stderr",
     "output_type": "stream",
     "text": [
      "                                                                                \r"
     ]
    },
    {
     "name": "stdout",
     "output_type": "stream",
     "text": [
      "Finished label threat with 10 ROCAUG = 0.5054190702084694\n"
     ]
    },
    {
     "name": "stderr",
     "output_type": "stream",
     "text": [
      "                                                                                \r"
     ]
    },
    {
     "name": "stdout",
     "output_type": "stream",
     "text": [
      "Finished label insult with 10 ROCAUG = 0.5031063923295543\n"
     ]
    },
    {
     "name": "stderr",
     "output_type": "stream",
     "text": [
      "                                                                                \r"
     ]
    },
    {
     "name": "stdout",
     "output_type": "stream",
     "text": [
      "Finished label identity_hate with 10 ROCAUG = 0.49996837044534415\n"
     ]
    },
    {
     "name": "stderr",
     "output_type": "stream",
     "text": [
      "[Stage 4375:>                                                       (0 + 1) / 1]\r"
     ]
    },
    {
     "name": "stdout",
     "output_type": "stream",
     "text": [
      "22/12/23 02:18:38 WARN MemoryStore: Not enough space to cache rdd_7734_0 in memory! (computed 17.0 MiB so far)\n",
      "22/12/23 02:18:38 WARN BlockManager: Persisting block rdd_7734_0 to disk instead.\n"
     ]
    },
    {
     "name": "stderr",
     "output_type": "stream",
     "text": [
      "                                                                                \r"
     ]
    },
    {
     "name": "stdout",
     "output_type": "stream",
     "text": [
      "Finished label toxic with 20 ROCAUG = 0.5049484208998328\n"
     ]
    },
    {
     "name": "stderr",
     "output_type": "stream",
     "text": [
      "[Stage 4415:>                                                       (0 + 1) / 1]\r"
     ]
    },
    {
     "name": "stdout",
     "output_type": "stream",
     "text": [
      "22/12/23 02:19:00 WARN MemoryStore: Not enough space to cache rdd_7822_0 in memory! (computed 17.0 MiB so far)\n",
      "22/12/23 02:19:00 WARN BlockManager: Persisting block rdd_7822_0 to disk instead.\n"
     ]
    },
    {
     "name": "stderr",
     "output_type": "stream",
     "text": [
      "                                                                                \r"
     ]
    },
    {
     "name": "stdout",
     "output_type": "stream",
     "text": [
      "Finished label severe_toxic with 20 ROCAUG = 0.5149652501463011\n"
     ]
    },
    {
     "name": "stderr",
     "output_type": "stream",
     "text": [
      "[Stage 4479:>                                                       (0 + 1) / 1]\r"
     ]
    },
    {
     "name": "stdout",
     "output_type": "stream",
     "text": [
      "22/12/23 02:19:23 WARN MemoryStore: Not enough space to cache rdd_7934_0 in memory! (computed 17.0 MiB so far)\n",
      "22/12/23 02:19:23 WARN BlockManager: Persisting block rdd_7934_0 to disk instead.\n"
     ]
    },
    {
     "name": "stderr",
     "output_type": "stream",
     "text": [
      "                                                                                \r"
     ]
    },
    {
     "name": "stdout",
     "output_type": "stream",
     "text": [
      "Finished label obscene with 20 ROCAUG = 0.5052077849451113\n"
     ]
    },
    {
     "name": "stderr",
     "output_type": "stream",
     "text": [
      "[Stage 4526:>                                                       (0 + 1) / 1]\r"
     ]
    },
    {
     "name": "stdout",
     "output_type": "stream",
     "text": [
      "22/12/23 02:19:45 WARN MemoryStore: Not enough space to cache rdd_8029_0 in memory! (computed 17.0 MiB so far)\n",
      "22/12/23 02:19:45 WARN BlockManager: Persisting block rdd_8029_0 to disk instead.\n"
     ]
    },
    {
     "name": "stderr",
     "output_type": "stream",
     "text": [
      "                                                                                \r"
     ]
    },
    {
     "name": "stdout",
     "output_type": "stream",
     "text": [
      "Finished label threat with 20 ROCAUG = 0.505387645408017\n"
     ]
    },
    {
     "name": "stderr",
     "output_type": "stream",
     "text": [
      "[Stage 4605:>                                                       (0 + 1) / 1]\r"
     ]
    },
    {
     "name": "stdout",
     "output_type": "stream",
     "text": [
      "22/12/23 02:20:09 WARN MemoryStore: Not enough space to cache rdd_8156_0 in memory! (computed 17.0 MiB so far)\n",
      "22/12/23 02:20:09 WARN BlockManager: Persisting block rdd_8156_0 to disk instead.\n"
     ]
    },
    {
     "name": "stderr",
     "output_type": "stream",
     "text": [
      "                                                                                \r"
     ]
    },
    {
     "name": "stdout",
     "output_type": "stream",
     "text": [
      "Finished label insult with 20 ROCAUG = 0.5046678268123964\n"
     ]
    },
    {
     "name": "stderr",
     "output_type": "stream",
     "text": [
      "[Stage 4650:>                                                       (0 + 1) / 1]\r"
     ]
    },
    {
     "name": "stdout",
     "output_type": "stream",
     "text": [
      "22/12/23 02:20:31 WARN MemoryStore: Not enough space to cache rdd_8249_0 in memory! (computed 17.0 MiB so far)\n",
      "22/12/23 02:20:31 WARN BlockManager: Persisting block rdd_8249_0 to disk instead.\n"
     ]
    },
    {
     "name": "stderr",
     "output_type": "stream",
     "text": [
      "                                                                                \r"
     ]
    },
    {
     "name": "stdout",
     "output_type": "stream",
     "text": [
      "Finished label identity_hate with 20 ROCAUG = 0.5033240751433308\n"
     ]
    },
    {
     "name": "stderr",
     "output_type": "stream",
     "text": [
      "[Stage 4714:>                                                       (0 + 1) / 1]\r"
     ]
    },
    {
     "name": "stdout",
     "output_type": "stream",
     "text": [
      "22/12/23 02:21:02 WARN MemoryStore: Not enough space to cache rdd_8370_0 in memory! (computed 17.0 MiB so far)\n",
      "22/12/23 02:21:02 WARN BlockManager: Persisting block rdd_8370_0 to disk instead.\n"
     ]
    },
    {
     "name": "stderr",
     "output_type": "stream",
     "text": [
      "                                                                                \r"
     ]
    },
    {
     "name": "stdout",
     "output_type": "stream",
     "text": [
      "Finished label toxic with 30 ROCAUG = 0.5055669377139653\n"
     ]
    },
    {
     "name": "stderr",
     "output_type": "stream",
     "text": [
      "[Stage 4755:>                                                       (0 + 1) / 1]\r"
     ]
    },
    {
     "name": "stdout",
     "output_type": "stream",
     "text": [
      "22/12/23 02:21:24 WARN MemoryStore: Not enough space to cache rdd_8459_0 in memory! (computed 17.0 MiB so far)\n",
      "22/12/23 02:21:24 WARN BlockManager: Persisting block rdd_8459_0 to disk instead.\n"
     ]
    },
    {
     "name": "stderr",
     "output_type": "stream",
     "text": [
      "                                                                                \r"
     ]
    },
    {
     "name": "stdout",
     "output_type": "stream",
     "text": [
      "Finished label severe_toxic with 30 ROCAUG = 0.5134275624440641\n"
     ]
    },
    {
     "name": "stderr",
     "output_type": "stream",
     "text": [
      "[Stage 4826:>                                                       (0 + 1) / 1]\r"
     ]
    },
    {
     "name": "stdout",
     "output_type": "stream",
     "text": [
      "22/12/23 02:21:47 WARN MemoryStore: Not enough space to cache rdd_8578_0 in memory! (computed 17.0 MiB so far)\n",
      "22/12/23 02:21:47 WARN BlockManager: Persisting block rdd_8578_0 to disk instead.\n"
     ]
    },
    {
     "name": "stderr",
     "output_type": "stream",
     "text": [
      "                                                                                \r"
     ]
    },
    {
     "name": "stdout",
     "output_type": "stream",
     "text": [
      "Finished label obscene with 30 ROCAUG = 0.5057221251788612\n"
     ]
    },
    {
     "name": "stderr",
     "output_type": "stream",
     "text": [
      "[Stage 4877:>                                                       (0 + 1) / 1]\r"
     ]
    },
    {
     "name": "stdout",
     "output_type": "stream",
     "text": [
      "22/12/23 02:22:10 WARN MemoryStore: Not enough space to cache rdd_8677_0 in memory! (computed 17.0 MiB so far)\n",
      "22/12/23 02:22:10 WARN BlockManager: Persisting block rdd_8677_0 to disk instead.\n"
     ]
    },
    {
     "name": "stderr",
     "output_type": "stream",
     "text": [
      "                                                                                \r"
     ]
    },
    {
     "name": "stdout",
     "output_type": "stream",
     "text": [
      "Finished label threat with 30 ROCAUG = 0.505387645408017\n"
     ]
    },
    {
     "name": "stderr",
     "output_type": "stream",
     "text": [
      "[Stage 4972:>                                                       (0 + 1) / 1]\r"
     ]
    },
    {
     "name": "stdout",
     "output_type": "stream",
     "text": [
      "22/12/23 02:22:34 WARN MemoryStore: Not enough space to cache rdd_8820_0 in memory! (computed 17.0 MiB so far)\n",
      "22/12/23 02:22:34 WARN BlockManager: Persisting block rdd_8820_0 to disk instead.\n"
     ]
    },
    {
     "name": "stderr",
     "output_type": "stream",
     "text": [
      "                                                                                \r"
     ]
    },
    {
     "name": "stdout",
     "output_type": "stream",
     "text": [
      "Finished label insult with 30 ROCAUG = 0.5061798313868485\n"
     ]
    },
    {
     "name": "stderr",
     "output_type": "stream",
     "text": [
      "[Stage 5022:>                                                       (0 + 1) / 1]\r"
     ]
    },
    {
     "name": "stdout",
     "output_type": "stream",
     "text": [
      "22/12/23 02:22:57 WARN MemoryStore: Not enough space to cache rdd_8918_0 in memory! (computed 17.0 MiB so far)\n",
      "22/12/23 02:22:57 WARN BlockManager: Persisting block rdd_8918_0 to disk instead.\n"
     ]
    },
    {
     "name": "stderr",
     "output_type": "stream",
     "text": [
      "                                                                                \r"
     ]
    },
    {
     "name": "stdout",
     "output_type": "stream",
     "text": [
      "Finished label identity_hate with 30 ROCAUG = 0.4999051113360324\n"
     ]
    },
    {
     "name": "stderr",
     "output_type": "stream",
     "text": [
      "[Stage 5090:>                                                       (0 + 1) / 1]\r"
     ]
    },
    {
     "name": "stdout",
     "output_type": "stream",
     "text": [
      "22/12/23 02:23:28 WARN MemoryStore: Not enough space to cache rdd_9043_0 in memory! (computed 17.0 MiB so far)\n",
      "22/12/23 02:23:28 WARN BlockManager: Persisting block rdd_9043_0 to disk instead.\n"
     ]
    },
    {
     "name": "stderr",
     "output_type": "stream",
     "text": [
      "                                                                                \r"
     ]
    },
    {
     "name": "stdout",
     "output_type": "stream",
     "text": [
      "Finished label toxic with 40 ROCAUG = 0.5066132602129876\n"
     ]
    },
    {
     "name": "stderr",
     "output_type": "stream",
     "text": [
      "[Stage 5140:>                                                       (0 + 1) / 1]\r"
     ]
    },
    {
     "name": "stdout",
     "output_type": "stream",
     "text": [
      "22/12/23 02:23:50 WARN MemoryStore: Not enough space to cache rdd_9141_0 in memory! (computed 17.0 MiB so far)\n",
      "22/12/23 02:23:50 WARN BlockManager: Persisting block rdd_9141_0 to disk instead.\n"
     ]
    },
    {
     "name": "stderr",
     "output_type": "stream",
     "text": [
      "                                                                                \r"
     ]
    },
    {
     "name": "stdout",
     "output_type": "stream",
     "text": [
      "Finished label severe_toxic with 40 ROCAUG = 0.5210051783347691\n"
     ]
    },
    {
     "name": "stderr",
     "output_type": "stream",
     "text": [
      "[Stage 5226:>                                                       (0 + 1) / 1]\r"
     ]
    },
    {
     "name": "stdout",
     "output_type": "stream",
     "text": [
      "22/12/23 02:24:15 WARN MemoryStore: Not enough space to cache rdd_9275_0 in memory! (computed 17.0 MiB so far)\n",
      "22/12/23 02:24:15 WARN BlockManager: Persisting block rdd_9275_0 to disk instead.\n"
     ]
    },
    {
     "name": "stderr",
     "output_type": "stream",
     "text": [
      "                                                                                \r"
     ]
    },
    {
     "name": "stdout",
     "output_type": "stream",
     "text": [
      "Finished label obscene with 40 ROCAUG = 0.5086575949907527\n"
     ]
    },
    {
     "name": "stderr",
     "output_type": "stream",
     "text": [
      "[Stage 5284:>                                                       (0 + 1) / 1]\r"
     ]
    },
    {
     "name": "stdout",
     "output_type": "stream",
     "text": [
      "22/12/23 02:24:38 WARN MemoryStore: Not enough space to cache rdd_9381_0 in memory! (computed 17.0 MiB so far)\n",
      "22/12/23 02:24:38 WARN BlockManager: Persisting block rdd_9381_0 to disk instead.\n"
     ]
    },
    {
     "name": "stderr",
     "output_type": "stream",
     "text": [
      "                                                                                \r"
     ]
    },
    {
     "name": "stdout",
     "output_type": "stream",
     "text": [
      "Finished label threat with 40 ROCAUG = 0.5053562206075644\n"
     ]
    },
    {
     "name": "stderr",
     "output_type": "stream",
     "text": [
      "[Stage 5366:>                                                       (0 + 1) / 1]\r"
     ]
    },
    {
     "name": "stdout",
     "output_type": "stream",
     "text": [
      "22/12/23 02:25:02 WARN MemoryStore: Not enough space to cache rdd_9511_0 in memory! (computed 17.0 MiB so far)\n",
      "22/12/23 02:25:02 WARN BlockManager: Persisting block rdd_9511_0 to disk instead.\n"
     ]
    },
    {
     "name": "stderr",
     "output_type": "stream",
     "text": [
      "                                                                                \r"
     ]
    },
    {
     "name": "stdout",
     "output_type": "stream",
     "text": [
      "Finished label insult with 40 ROCAUG = 0.5055255996486778\n"
     ]
    },
    {
     "name": "stderr",
     "output_type": "stream",
     "text": [
      "[Stage 5422:>                                                       (0 + 1) / 1]\r"
     ]
    },
    {
     "name": "stdout",
     "output_type": "stream",
     "text": [
      "22/12/23 02:25:25 WARN MemoryStore: Not enough space to cache rdd_9615_0 in memory! (computed 17.0 MiB so far)\n",
      "22/12/23 02:25:25 WARN BlockManager: Persisting block rdd_9615_0 to disk instead.\n"
     ]
    },
    {
     "name": "stderr",
     "output_type": "stream",
     "text": [
      "                                                                                \r"
     ]
    },
    {
     "name": "stdout",
     "output_type": "stream",
     "text": [
      "Finished label identity_hate with 40 ROCAUG = 0.5066007059546775\n"
     ]
    },
    {
     "name": "stderr",
     "output_type": "stream",
     "text": [
      "[Stage 5502:>                                                       (0 + 1) / 1]\r"
     ]
    },
    {
     "name": "stdout",
     "output_type": "stream",
     "text": [
      "22/12/23 02:25:57 WARN MemoryStore: Not enough space to cache rdd_9752_0 in memory! (computed 17.0 MiB so far)\n",
      "22/12/23 02:25:57 WARN BlockManager: Persisting block rdd_9752_0 to disk instead.\n"
     ]
    },
    {
     "name": "stderr",
     "output_type": "stream",
     "text": [
      "                                                                                \r"
     ]
    },
    {
     "name": "stdout",
     "output_type": "stream",
     "text": [
      "Finished label toxic with 50 ROCAUG = 0.5069196435214679\n"
     ]
    },
    {
     "name": "stderr",
     "output_type": "stream",
     "text": [
      "[Stage 5560:>                                                       (0 + 1) / 1]\r"
     ]
    },
    {
     "name": "stdout",
     "output_type": "stream",
     "text": [
      "22/12/23 02:26:21 WARN MemoryStore: Not enough space to cache rdd_9858_0 in memory! (computed 17.0 MiB so far)\n",
      "22/12/23 02:26:21 WARN BlockManager: Persisting block rdd_9858_0 to disk instead.\n"
     ]
    },
    {
     "name": "stderr",
     "output_type": "stream",
     "text": [
      "                                                                                \r"
     ]
    },
    {
     "name": "stdout",
     "output_type": "stream",
     "text": [
      "Finished label severe_toxic with 50 ROCAUG = 0.5194516588296063\n"
     ]
    },
    {
     "name": "stderr",
     "output_type": "stream",
     "text": [
      "[Stage 5655:>                                                       (0 + 1) / 1]\r"
     ]
    },
    {
     "name": "stdout",
     "output_type": "stream",
     "text": [
      "22/12/23 02:26:46 WARN MemoryStore: Not enough space to cache rdd_10001_0 in memory! (computed 17.0 MiB so far)\n",
      "22/12/23 02:26:46 WARN BlockManager: Persisting block rdd_10001_0 to disk instead.\n"
     ]
    },
    {
     "name": "stderr",
     "output_type": "stream",
     "text": [
      "                                                                                \r"
     ]
    },
    {
     "name": "stdout",
     "output_type": "stream",
     "text": [
      "Finished label obscene with 50 ROCAUG = 0.5073478205717338\n"
     ]
    },
    {
     "name": "stderr",
     "output_type": "stream",
     "text": [
      "[Stage 5717:>                                                       (0 + 1) / 1]\r"
     ]
    },
    {
     "name": "stdout",
     "output_type": "stream",
     "text": [
      "22/12/23 02:27:10 WARN MemoryStore: Not enough space to cache rdd_10111_0 in memory! (computed 17.0 MiB so far)\n",
      "22/12/23 02:27:10 WARN BlockManager: Persisting block rdd_10111_0 to disk instead.\n"
     ]
    },
    {
     "name": "stderr",
     "output_type": "stream",
     "text": [
      "                                                                                \r"
     ]
    },
    {
     "name": "stdout",
     "output_type": "stream",
     "text": [
      "Finished label threat with 50 ROCAUG = 0.5107595784158075\n"
     ]
    },
    {
     "name": "stderr",
     "output_type": "stream",
     "text": [
      "[Stage 5818:>                                                       (0 + 1) / 1]\r"
     ]
    },
    {
     "name": "stdout",
     "output_type": "stream",
     "text": [
      "22/12/23 02:27:35 WARN MemoryStore: Not enough space to cache rdd_10260_0 in memory! (computed 17.0 MiB so far)\n",
      "22/12/23 02:27:35 WARN BlockManager: Persisting block rdd_10260_0 to disk instead.\n"
     ]
    },
    {
     "name": "stderr",
     "output_type": "stream",
     "text": [
      "                                                                                \r"
     ]
    },
    {
     "name": "stdout",
     "output_type": "stream",
     "text": [
      "Finished label insult with 50 ROCAUG = 0.5068670163972793\n"
     ]
    },
    {
     "name": "stderr",
     "output_type": "stream",
     "text": [
      "[Stage 5884:>                                                       (0 + 1) / 1]\r"
     ]
    },
    {
     "name": "stdout",
     "output_type": "stream",
     "text": [
      "22/12/23 02:28:00 WARN MemoryStore: Not enough space to cache rdd_10374_0 in memory! (computed 17.0 MiB so far)\n",
      "22/12/23 02:28:00 WARN BlockManager: Persisting block rdd_10374_0 to disk instead.\n"
     ]
    },
    {
     "name": "stderr",
     "output_type": "stream",
     "text": [
      "[Stage 5954:>                                                       (0 + 1) / 1]\r"
     ]
    },
    {
     "name": "stdout",
     "output_type": "stream",
     "text": [
      "Finished label identity_hate with 50 ROCAUG = 0.5014880750210581\n"
     ]
    },
    {
     "name": "stderr",
     "output_type": "stream",
     "text": [
      "                                                                                \r"
     ]
    }
   ],
   "source": [
    "tfidf_metrics_compare = get_metrics(labels, df_train, df_eval, W2V_num_features, tfidf)"
   ]
  },
  {
   "cell_type": "code",
   "execution_count": 39,
   "metadata": {},
   "outputs": [
    {
     "data": {
      "image/png": "[encoded data removed]",
      "text/plain": [
       "<Figure size 640x480 with 2 Axes>"
      ]
     },
     "metadata": {},
     "output_type": "display_data"
    },
    {
     "data": {
      "image/png": "[encoded data removed]",
      "text/plain": [
       "<Figure size 640x480 with 2 Axes>"
      ]
     },
     "metadata": {},
     "output_type": "display_data"
    },
    {
     "data": {
      "image/png": "[encoded data removed]",
      "text/plain": [
       "<Figure size 640x480 with 2 Axes>"
      ]
     },
     "metadata": {},
     "output_type": "display_data"
    },
    {
     "data": {
      "image/png": "[encoded data removed]",
      "text/plain": [
       "<Figure size 640x480 with 2 Axes>"
      ]
     },
     "metadata": {},
     "output_type": "display_data"
    },
    {
     "data": {
      "image/png": "[encoded data removed]",
      "text/plain": [
       "<Figure size 640x480 with 2 Axes>"
      ]
     },
     "metadata": {},
     "output_type": "display_data"
    },
    {
     "data": {
      "image/png": "[encoded data removed]",
      "text/plain": [
       "<Figure size 640x480 with 2 Axes>"
      ]
     },
     "metadata": {},
     "output_type": "display_data"
    }
   ],
   "source": [
    "plot_comparison_1(w2v_metrics, tfidf_metrics)"
   ]
  },
  {
   "cell_type": "code",
   "execution_count": 22,
   "metadata": {},
   "outputs": [
    {
     "data": {
      "image/png": "[encoded data removed]",
      "text/plain": [
       "<Figure size 640x480 with 1 Axes>"
      ]
     },
     "metadata": {},
     "output_type": "display_data"
    },
    {
     "data": {
      "image/png": "[encoded data removed]",
      "text/plain": [
       "<Figure size 640x480 with 1 Axes>"
      ]
     },
     "metadata": {},
     "output_type": "display_data"
    },
    {
     "data": {
      "image/png": "[encoded data removed]",
      "text/plain": [
       "<Figure size 640x480 with 1 Axes>"
      ]
     },
     "metadata": {},
     "output_type": "display_data"
    },
    {
     "data": {
      "image/png": "[encoded data removed]",
      "text/plain": [
       "<Figure size 640x480 with 1 Axes>"
      ]
     },
     "metadata": {},
     "output_type": "display_data"
    },
    {
     "data": {
      "image/png": "[encoded data removed]",
      "text/plain": [
       "<Figure size 640x480 with 1 Axes>"
      ]
     },
     "metadata": {},
     "output_type": "display_data"
    },
    {
     "data": {
      "image/png": "[encoded data removed]",
      "text/plain": [
       "<Figure size 640x480 with 1 Axes>"
      ]
     },
     "metadata": {},
     "output_type": "display_data"
    }
   ],
   "source": [
    "plot_comparison(w2v_metrics, tfidf_metrics_compare, W2V_num_features)"
   ]
  },
  {
   "cell_type": "code",
   "execution_count": null,
   "metadata": {},
   "outputs": [],
   "source": []
  }
 ],
 "metadata": {
  "kernelspec": {
   "display_name": "Python 3.9.13 ('adv_rl')",
   "language": "python",
   "name": "python3"
  },
  "language_info": {
   "codemirror_mode": {
    "name": "ipython",
    "version": 3
   },
   "file_extension": ".py",
   "mimetype": "text/x-python",
   "name": "python",
   "nbconvert_exporter": "python",
   "pygments_lexer": "ipython3",
   "version": "3.9.13"
  },
  "orig_nbformat": 4,
  "vscode": {
   "interpreter": {
    "hash": "b56e018f216d5d9e79dda137e8a8b613ffc749612a22bd44cec590afb667c765"
   }
  }
 },
 "nbformat": 4,
 "nbformat_minor": 2
}
